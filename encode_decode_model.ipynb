{
  "nbformat": 4,
  "nbformat_minor": 0,
  "metadata": {
    "kernelspec": {
      "display_name": "Python 3",
      "language": "python",
      "name": "python3"
    },
    "language_info": {
      "codemirror_mode": {
        "name": "ipython",
        "version": 3
      },
      "file_extension": ".py",
      "mimetype": "text/x-python",
      "name": "python",
      "nbconvert_exporter": "python",
      "pygments_lexer": "ipython3",
      "version": "3.7.6"
    },
    "colab": {
      "name": "encode_decode_model.ipynb",
      "provenance": [],
      "collapsed_sections": [
        "gWSj3daHyPI1"
      ],
      "toc_visible": true,
      "include_colab_link": true
    }
  },
  "cells": [
    {
      "cell_type": "markdown",
      "metadata": {
        "id": "view-in-github",
        "colab_type": "text"
      },
      "source": [
        "<a href=\"https://colab.research.google.com/github/benfrancis314/mental-frontiers-pub/blob/master/encode_decode_model.ipynb\" target=\"_parent\"><img src=\"https://colab.research.google.com/assets/colab-badge.svg\" alt=\"Open In Colab\"/></a>"
      ]
    },
    {
      "cell_type": "markdown",
      "metadata": {
        "id": "Fabs6Ii9-gID",
        "colab_type": "text"
      },
      "source": [
        "# Encoder Decoder Model"
      ]
    },
    {
      "cell_type": "code",
      "metadata": {
        "id": "51sY___3foel",
        "colab_type": "code",
        "outputId": "a1150b29-c141-4c9e-878b-cd2f412aa619",
        "colab": {
          "base_uri": "https://localhost:8080/",
          "height": 122
        }
      },
      "source": [
        "from google.colab import drive\n",
        "drive.mount('/content/drive')"
      ],
      "execution_count": 1,
      "outputs": [
        {
          "output_type": "stream",
          "text": [
            "Go to this URL in a browser: https://accounts.google.com/o/oauth2/auth?client_id=947318989803-6bn6qk8qdgf4n4g3pfee6491hc0brc4i.apps.googleusercontent.com&redirect_uri=urn%3aietf%3awg%3aoauth%3a2.0%3aoob&response_type=code&scope=email%20https%3a%2f%2fwww.googleapis.com%2fauth%2fdocs.test%20https%3a%2f%2fwww.googleapis.com%2fauth%2fdrive%20https%3a%2f%2fwww.googleapis.com%2fauth%2fdrive.photos.readonly%20https%3a%2f%2fwww.googleapis.com%2fauth%2fpeopleapi.readonly\n",
            "\n",
            "Enter your authorization code:\n",
            "··········\n",
            "Mounted at /content/drive\n"
          ],
          "name": "stdout"
        }
      ]
    },
    {
      "cell_type": "code",
      "metadata": {
        "id": "Gb7P4ZtU-gIE",
        "colab_type": "code",
        "colab": {}
      },
      "source": [
        "# System\n",
        "import os\n",
        "import shutil\n",
        "import time\n",
        "import pickle\n",
        "\n",
        "# Data science\n",
        "import math\n",
        "\n",
        "import tensorflow as tf\n",
        "from tensorflow import keras\n",
        "from tensorflow.keras import layers\n",
        "from tensorflow.keras.models import Sequential\n",
        "import tensorflow_addons as tfa\n",
        "import numpy as np\n",
        "import pandas as pd\n",
        "import matplotlib as mpl\n",
        "import matplotlib.image  as mpimg\n",
        "from matplotlib import pyplot as plt\n",
        "from sklearn.datasets import fetch_california_housing\n",
        "from sklearn.model_selection import train_test_split\n",
        "from sklearn.preprocessing import StandardScaler\n",
        "\n",
        "mpl.rcParams['figure.figsize'] = (8, 6)\n",
        "mpl.rcParams['axes.grid'] = False"
      ],
      "execution_count": 0,
      "outputs": []
    },
    {
      "cell_type": "code",
      "metadata": {
        "id": "lq6jn6EQ-gIM",
        "colab_type": "code",
        "colab": {}
      },
      "source": [
        "tf.random.set_seed(7) # Bc luck doesn't hurt\n",
        "np.random.seed(7)\n"
      ],
      "execution_count": 0,
      "outputs": []
    },
    {
      "cell_type": "markdown",
      "metadata": {
        "id": "XNIebN20-gIO",
        "colab_type": "text"
      },
      "source": [
        "## Get Data from Drive"
      ]
    },
    {
      "cell_type": "code",
      "metadata": {
        "id": "h2NUbZ7AyzTG",
        "colab_type": "code",
        "outputId": "06e8df93-161f-4c8a-c57c-fbd37178f1cf",
        "colab": {
          "base_uri": "https://localhost:8080/",
          "height": 272
        }
      },
      "source": [
        "drift_grat_file = open('./drive/My Drive/Colab Notebooks/drift_grat.pickle', 'rb')\n",
        "drift_grat = pickle.load(drift_grat_file)\n",
        "drift_grat_file.close()\n",
        "df = drift_grat\n",
        "df.head\n"
      ],
      "execution_count": 4,
      "outputs": [
        {
          "output_type": "execute_result",
          "data": {
            "text/plain": [
              "<bound method NDFrame.head of                   LFP       Ch2       Ch3  ...      Ch84          Ch85      Ch86\n",
              "time                                       ...                                  \n",
              "5000.000243 -0.000090  0.000225  0.000223  ... -0.000050  1.170000e-06 -0.000003\n",
              "5000.001043 -0.000137  0.000222  0.000215  ... -0.000062 -1.228500e-05 -0.000009\n",
              "5000.001843 -0.000221  0.000234  0.000222  ... -0.000064 -2.008500e-05 -0.000019\n",
              "5000.002643 -0.000306  0.000217  0.000239  ... -0.000052 -2.925000e-05 -0.000019\n",
              "5000.003443 -0.000350  0.000211  0.000222  ... -0.000061 -3.783000e-05 -0.000023\n",
              "...               ...       ...       ...  ...       ...           ...       ...\n",
              "5349.996410  0.000012  0.000042  0.000038  ...  0.000000 -1.950000e-07 -0.000020\n",
              "5349.997210 -0.000018  0.000056  0.000051  ... -0.000007  8.580000e-06 -0.000014\n",
              "5349.998010 -0.000030  0.000022  0.000031  ...  0.000004  6.045000e-06 -0.000031\n",
              "5349.998810 -0.000019  0.000044  0.000047  ... -0.000005 -4.875000e-06 -0.000020\n",
              "5349.999610 -0.000026  0.000107  0.000128  ...  0.000004  7.215000e-06 -0.000005\n",
              "\n",
              "[437500 rows x 86 columns]>"
            ]
          },
          "metadata": {
            "tags": []
          },
          "execution_count": 4
        }
      ]
    },
    {
      "cell_type": "markdown",
      "metadata": {
        "id": "bt4a6smpb87g",
        "colab_type": "text"
      },
      "source": [
        "#### Select Channels"
      ]
    },
    {
      "cell_type": "code",
      "metadata": {
        "id": "cfvzwOvm-gIe",
        "colab_type": "code",
        "outputId": "72828dee-7cea-4b71-b547-132986e4087b",
        "colab": {
          "base_uri": "https://localhost:8080/",
          "height": 235
        }
      },
      "source": [
        "# features_considered = ['Ch50', 'Ch51', 'Ch52'] \n",
        "features_considered = ['Ch51'] \n",
        "features = df[features_considered]\n",
        "\n",
        "# features = df\n",
        "features.shape\n",
        "channels = features.shape[1]\n",
        "features.head()"
      ],
      "execution_count": 5,
      "outputs": [
        {
          "output_type": "execute_result",
          "data": {
            "text/html": [
              "<div>\n",
              "<style scoped>\n",
              "    .dataframe tbody tr th:only-of-type {\n",
              "        vertical-align: middle;\n",
              "    }\n",
              "\n",
              "    .dataframe tbody tr th {\n",
              "        vertical-align: top;\n",
              "    }\n",
              "\n",
              "    .dataframe thead th {\n",
              "        text-align: right;\n",
              "    }\n",
              "</style>\n",
              "<table border=\"1\" class=\"dataframe\">\n",
              "  <thead>\n",
              "    <tr style=\"text-align: right;\">\n",
              "      <th></th>\n",
              "      <th>Ch51</th>\n",
              "    </tr>\n",
              "    <tr>\n",
              "      <th>time</th>\n",
              "      <th></th>\n",
              "    </tr>\n",
              "  </thead>\n",
              "  <tbody>\n",
              "    <tr>\n",
              "      <th>5000.000243</th>\n",
              "      <td>-0.000090</td>\n",
              "    </tr>\n",
              "    <tr>\n",
              "      <th>5000.001043</th>\n",
              "      <td>-0.000137</td>\n",
              "    </tr>\n",
              "    <tr>\n",
              "      <th>5000.001843</th>\n",
              "      <td>-0.000221</td>\n",
              "    </tr>\n",
              "    <tr>\n",
              "      <th>5000.002643</th>\n",
              "      <td>-0.000306</td>\n",
              "    </tr>\n",
              "    <tr>\n",
              "      <th>5000.003443</th>\n",
              "      <td>-0.000350</td>\n",
              "    </tr>\n",
              "  </tbody>\n",
              "</table>\n",
              "</div>"
            ],
            "text/plain": [
              "                 Ch51\n",
              "time                 \n",
              "5000.000243 -0.000090\n",
              "5000.001043 -0.000137\n",
              "5000.001843 -0.000221\n",
              "5000.002643 -0.000306\n",
              "5000.003443 -0.000350"
            ]
          },
          "metadata": {
            "tags": []
          },
          "execution_count": 5
        }
      ]
    },
    {
      "cell_type": "markdown",
      "metadata": {
        "id": "pXfwMjZcb4fz",
        "colab_type": "text"
      },
      "source": [
        "#### Verify data is imported properly"
      ]
    },
    {
      "cell_type": "code",
      "metadata": {
        "id": "xRigU7Be-gIo",
        "colab_type": "code",
        "outputId": "f052861a-b6a3-4560-ad1e-edaf68e3c5d2",
        "colab": {
          "base_uri": "https://localhost:8080/",
          "height": 401
        }
      },
      "source": [
        "features.plot(subplots=True)  # To ensure data loaded properly"
      ],
      "execution_count": 6,
      "outputs": [
        {
          "output_type": "execute_result",
          "data": {
            "text/plain": [
              "array([<matplotlib.axes._subplots.AxesSubplot object at 0x7fa780a94c88>],\n",
              "      dtype=object)"
            ]
          },
          "metadata": {
            "tags": []
          },
          "execution_count": 6
        },
        {
          "output_type": "display_data",
          "data": {
            "image/png": "[encoded data removed]",
            "text/plain": [
              "<Figure size 576x432 with 1 Axes>"
            ]
          },
          "metadata": {
            "tags": [],
            "needs_background": "light"
          }
        }
      ]
    },
    {
      "cell_type": "markdown",
      "metadata": {
        "id": "n4NVPrXf-gIz",
        "colab_type": "text"
      },
      "source": [
        "## PARAMS & DATA PREP"
      ]
    },
    {
      "cell_type": "code",
      "metadata": {
        "id": "1-uaoNz7-gI0",
        "colab_type": "code",
        "colab": {}
      },
      "source": [
        "# Sec 1\n",
        "TRAIN_SPLIT = 300000  # Training Split\n",
        "dataset = features.values\n",
        "data_mean = dataset[:TRAIN_SPLIT].mean(axis=0)\n",
        "data_std = dataset[:TRAIN_SPLIT].std(axis=0)\n",
        "dataset = (dataset-data_mean)/data_std  # Standardize again\n",
        "\n",
        "# Sec 2\n",
        "BATCH_SIZE = 32\n",
        "BUFFER_SIZE = 10000\n",
        "\n",
        "EVALUATION_INTERVAL = 200 #TRAIN_SPLT // BATCH_SIZE\n",
        "EPOCHS = 5"
      ],
      "execution_count": 0,
      "outputs": []
    },
    {
      "cell_type": "code",
      "metadata": {
        "id": "Yz4KLGlbY662",
        "colab_type": "code",
        "outputId": "03874c21-5021-4c07-dcd1-04c4001f7912",
        "colab": {
          "base_uri": "https://localhost:8080/",
          "height": 391
        }
      },
      "source": [
        "plt.plot(dataset[0:250,:])"
      ],
      "execution_count": 9,
      "outputs": [
        {
          "output_type": "execute_result",
          "data": {
            "text/plain": [
              "[<matplotlib.lines.Line2D at 0x7fa78043bdd8>]"
            ]
          },
          "metadata": {
            "tags": []
          },
          "execution_count": 9
        },
        {
          "output_type": "display_data",
          "data": {
            "image/png": "[encoded data removed]",
            "text/plain": [
              "<Figure size 576x432 with 1 Axes>"
            ]
          },
          "metadata": {
            "tags": [],
            "needs_background": "light"
          }
        }
      ]
    },
    {
      "cell_type": "code",
      "metadata": {
        "id": "-PaRKcogyoc0",
        "colab_type": "code",
        "colab": {}
      },
      "source": [
        "layers = [35, 35] # Number of hidden neurons in each layer of the encoder and decoder\n",
        "\n",
        "learning_rate = 0.01\n",
        "decay = 0 # Learning rate decay\n",
        "optimiser = keras.optimizers.Adam(lr=learning_rate, decay=decay) # Other possible optimiser \"sgd\" (Stochastic Gradient Descent)\n",
        "\n",
        "input_channels = channels # The dimensionality of the input at each time step. In this case a 1D signal.\n",
        "output_channels = 1 # The dimensionality of the output at each time step. In this case a 1D signal.\n",
        "\n",
        "loss = \"mse\" # Other loss functions are possible, see Keras documentation.\n",
        "\n",
        "# Regularisation isn't really needed for this application\n",
        "lambda_regulariser = 0.000001 # Will not be used if regulariser is None\n",
        "regulariser = None # Possible regulariser: keras.regularizers.l2(lambda_regulariser)\n",
        "\n",
        "batch_size = 32 # 512\n",
        "steps_per_epoch = 200 # batch_size * steps_per_epoch = total number of training examples\n",
        "epochs = 5 # 15\n",
        "\n",
        "window_size = 15 # Length of the sequence used by the encoder\n",
        "forecast_length = 15 # Length of the sequence predicted by the decoder\n",
        "num_steps_to_predict = 20 # Length to use when testing the model      # Why would this be different from forecast_length?"
      ],
      "execution_count": 0,
      "outputs": []
    },
    {
      "cell_type": "markdown",
      "metadata": {
        "id": "BZL4HJkh-gJM",
        "colab_type": "text"
      },
      "source": [
        "# ENCODER-DECODER MODEL"
      ]
    },
    {
      "cell_type": "markdown",
      "metadata": {
        "id": "_wMnPiBX1nLN",
        "colab_type": "text"
      },
      "source": [
        "## Architecture"
      ]
    },
    {
      "cell_type": "code",
      "metadata": {
        "id": "k84xlMhP-gJN",
        "colab_type": "code",
        "colab": {}
      },
      "source": [
        "# Functional model\n",
        "# Define an input sequence.\n",
        "encoder_inputs = keras.layers.Input(shape=(None, input_channels))\n",
        "\n",
        "# ENCODER\n",
        "# Create a list of RNN Cells, these are then concatenated into a single layer\n",
        "# with the RNN layer.\n",
        "encoder_cells = []\n",
        "for hidden_neurons in layers:\n",
        "  encoder_cells.append(keras.layers.GRUCell(hidden_neurons,\n",
        "                                              kernel_regularizer=regulariser,\n",
        "                                              recurrent_regularizer=regulariser,\n",
        "                                              bias_regularizer=regulariser))\n",
        "encoder = keras.layers.RNN(encoder_cells, return_state=True)\n",
        "encoder_outputs_and_states = encoder(encoder_inputs)\n",
        "# Discard encoder outputs and only keep the states.\n",
        "# The outputs are of no interest to us, the encoder's\n",
        "# job is to create a state describing the input sequence.\n",
        "encoder_states = encoder_outputs_and_states[1:]\n",
        "\n",
        "# DECODER\n",
        "decoder_inputs = keras.layers.Input(shape=(None, 1))\n",
        "decoder_cells = []\n",
        "for hidden_neurons in layers:\n",
        "    decoder_cells.append(keras.layers.GRUCell(hidden_neurons,\n",
        "                                              kernel_regularizer=regulariser,\n",
        "                                              recurrent_regularizer=regulariser,\n",
        "                                              bias_regularizer=regulariser))\n",
        "decoder = keras.layers.RNN(decoder_cells, return_sequences=True, return_state=True)\n",
        "# Set the initial state of the decoder to be the ouput state of the encoder.\n",
        "# This is the fundamental part of the encoder-decoder.\n",
        "decoder_outputs_and_states = decoder(decoder_inputs, initial_state=encoder_states) # It gets its initialy state from encoder, not inputs\n",
        "# Only select the output of the decoder (not the states)\n",
        "decoder_outputs = decoder_outputs_and_states[0]\n",
        "# Apply a dense layer with linear activation to set output to correct dimension\n",
        "# and scale (tanh is default activation for GRU in Keras, our output sine function can be larger then 1)\n",
        "decoder_dense = keras.layers.Dense(output_channels,\n",
        "                                   activation='linear',\n",
        "                                   kernel_regularizer=regulariser,\n",
        "                                   bias_regularizer=regulariser)\n",
        "decoder_outputs = decoder_dense(decoder_outputs)\n",
        "\n",
        "model = keras.models.Model(inputs=[encoder_inputs, decoder_inputs], outputs=decoder_outputs)\n",
        "model.compile(optimizer=optimiser, loss=loss)\n"
      ],
      "execution_count": 0,
      "outputs": []
    },
    {
      "cell_type": "markdown",
      "metadata": {
        "id": "9qOsX0P42c12",
        "colab_type": "text"
      },
      "source": [
        "## Data Generation and Fit"
      ]
    },
    {
      "cell_type": "code",
      "metadata": {
        "id": "549jxbvH2kso",
        "colab_type": "code",
        "colab": {}
      },
      "source": [
        "data_generator = data_gen(dataset, batch_size=batch_size,\n",
        "                                   steps_per_epoch=steps_per_epoch,\n",
        "                                   input_sequence_length=window_size,\n",
        "                                   target_sequence_length=forecast_length)"
      ],
      "execution_count": 0,
      "outputs": []
    },
    {
      "cell_type": "code",
      "metadata": {
        "id": "s-oe6nzYHWlT",
        "colab_type": "code",
        "outputId": "991deb3a-6620-49fd-9aad-8e95cf0d294e",
        "colab": {
          "base_uri": "https://localhost:8080/",
          "height": 374
        }
      },
      "source": [
        "model.fit(data_generator, steps_per_epoch=steps_per_epoch, epochs=10)"
      ],
      "execution_count": 19,
      "outputs": [
        {
          "output_type": "stream",
          "text": [
            "Epoch 1/10\n",
            "200/200 [==============================] - 4s 22ms/step - loss: 0.5243\n",
            "Epoch 2/10\n",
            "200/200 [==============================] - 5s 23ms/step - loss: 0.4378\n",
            "Epoch 3/10\n",
            "200/200 [==============================] - 5s 23ms/step - loss: 0.4105\n",
            "Epoch 4/10\n",
            "200/200 [==============================] - 4s 22ms/step - loss: 0.3938\n",
            "Epoch 5/10\n",
            "200/200 [==============================] - 5s 23ms/step - loss: 0.3896\n",
            "Epoch 6/10\n",
            "200/200 [==============================] - 5s 23ms/step - loss: 0.3849\n",
            "Epoch 7/10\n",
            "200/200 [==============================] - 5s 23ms/step - loss: 0.3865\n",
            "Epoch 8/10\n",
            "200/200 [==============================] - 5s 23ms/step - loss: 0.3745\n",
            "Epoch 9/10\n",
            "200/200 [==============================] - 5s 23ms/step - loss: 0.4352\n",
            "Epoch 10/10\n",
            "200/200 [==============================] - 5s 23ms/step - loss: 0.4044\n"
          ],
          "name": "stdout"
        },
        {
          "output_type": "execute_result",
          "data": {
            "text/plain": [
              "<tensorflow.python.keras.callbacks.History at 0x7fa77faf39b0>"
            ]
          },
          "metadata": {
            "tags": []
          },
          "execution_count": 19
        }
      ]
    },
    {
      "cell_type": "code",
      "metadata": {
        "id": "C6c1qMZiY9m9",
        "colab_type": "code",
        "outputId": "0307162d-fc74-479b-f372-b4cfeef82665",
        "colab": {
          "base_uri": "https://localhost:8080/",
          "height": 34
        }
      },
      "source": [
        "val_data.take(1)"
      ],
      "execution_count": 0,
      "outputs": [
        {
          "output_type": "execute_result",
          "data": {
            "text/plain": [
              "<TakeDataset shapes: ((32, 30, 3), (32, 50)), types: (tf.float32, tf.float32)>"
            ]
          },
          "metadata": {
            "tags": []
          },
          "execution_count": 93
        }
      ]
    },
    {
      "cell_type": "code",
      "metadata": {
        "id": "l5SzMdhUW1Dc",
        "colab_type": "code",
        "outputId": "9f741955-5b53-41a4-c836-04eb483a72ba",
        "colab": {
          "base_uri": "https://localhost:8080/",
          "height": 153
        }
      },
      "source": [
        "mse_tot = 0\n",
        "mae_tot = 0\n",
        "for x, y in val_data.take(channels):\n",
        "  results = lstm_model.predict(x)[0]\n",
        "  mse_tot += keras.metrics.mean_squared_error(y[0], results).numpy()\n",
        "  mae_tot += keras.metrics.mean_absolute_error(y[0], results).numpy()\n",
        "  print(\"MSE: \", keras.metrics.mean_squared_error(y[0], results).numpy())\n",
        "  print(\"MAE: \", keras.metrics.mean_absolute_error(y[0], results).numpy())\n",
        "  \n",
        "mse_avg = mse_tot/channels\n",
        "mae_avg = mae_tot/channels\n",
        "print(\"MSE Avg: \", mse_avg)\n",
        "print(\"MAE Avg: \", mae_avg)"
      ],
      "execution_count": 0,
      "outputs": [
        {
          "output_type": "stream",
          "text": [
            "MSE:  0.6899708\n",
            "MAE:  0.7241295\n",
            "MSE:  1.0739688\n",
            "MAE:  0.8583192\n",
            "MSE:  0.3135239\n",
            "MAE:  0.4643563\n",
            "MSE Avg:  0.6924878160158793\n",
            "MAE Avg:  0.6822683413823446\n"
          ],
          "name": "stdout"
        }
      ]
    },
    {
      "cell_type": "code",
      "metadata": {
        "id": "JlHpKx8h-gJZ",
        "colab_type": "code",
        "outputId": "ccfc57fa-a5fb-447a-ccc1-a919d80ab946",
        "colab": {
          "base_uri": "https://localhost:8080/",
          "height": 390
        }
      },
      "source": [
        "plot_train_history(lstm_history, 'Multi-Step Training and validation loss')"
      ],
      "execution_count": 0,
      "outputs": [
        {
          "output_type": "display_data",
          "data": {
            "image/png": "[encoded data removed]",
            "text/plain": [
              "<Figure size 576x432 with 1 Axes>"
            ]
          },
          "metadata": {
            "tags": [],
            "needs_background": "light"
          }
        }
      ]
    },
    {
      "cell_type": "markdown",
      "metadata": {
        "id": "JUBSCm47-gJd",
        "colab_type": "text"
      },
      "source": [
        "### Predict a Multi-Step Future"
      ]
    },
    {
      "cell_type": "code",
      "metadata": {
        "id": "semUBvRy-gJd",
        "colab_type": "code",
        "outputId": "dcf015a6-c4d9-4a33-add3-1550f28f720c",
        "colab": {
          "base_uri": "https://localhost:8080/",
          "height": 1000
        }
      },
      "source": [
        "mse_tot = 0\n",
        "mae_tot = 0\n",
        "for x, y in val_data.take(channels):\n",
        "  results = lstm_model.predict(x)[0]\n",
        "  multi_step_plot(x[0], y[0], results)\n",
        "  mse_tot += keras.metrics.mean_squared_error(y[0], results).numpy()\n",
        "  mae_tot += keras.metrics.mean_absolute_error(y[0], results).numpy()\n",
        "  print(\"MSE: \", keras.metrics.mean_squared_error(y[0], results).numpy())\n",
        "  print(\"MAE: \", keras.metrics.mean_absolute_error(y[0], results).numpy())\n",
        "  \n",
        "mse_avg = mse_tot/channels\n",
        "mae_avg = mae_tot/channels\n",
        "print(\"MSE Avg: \", mse_avg)\n",
        "print(\"MAE Avg: \", mae_avg)"
      ],
      "execution_count": 0,
      "outputs": [
        {
          "output_type": "display_data",
          "data": {
            "image/png": "[encoded data removed]",
            "text/plain": [
              "<Figure size 864x432 with 1 Axes>"
            ]
          },
          "metadata": {
            "tags": [],
            "needs_background": "light"
          }
        },
        {
          "output_type": "stream",
          "text": [
            "MSE:  0.6899708\n",
            "MAE:  0.7241295\n"
          ],
          "name": "stdout"
        },
        {
          "output_type": "display_data",
          "data": {
            "image/png": "[encoded data removed]",
            "text/plain": [
              "<Figure size 864x432 with 1 Axes>"
            ]
          },
          "metadata": {
            "tags": [],
            "needs_background": "light"
          }
        },
        {
          "output_type": "stream",
          "text": [
            "MSE:  1.0739688\n",
            "MAE:  0.8583192\n"
          ],
          "name": "stdout"
        },
        {
          "output_type": "display_data",
          "data": {
            "image/png": "[encoded data removed]",
            "text/plain": [
              "<Figure size 864x432 with 1 Axes>"
            ]
          },
          "metadata": {
            "tags": [],
            "needs_background": "light"
          }
        },
        {
          "output_type": "stream",
          "text": [
            "MSE:  0.3135239\n",
            "MAE:  0.4643563\n",
            "MSE Avg:  0.6924878160158793\n",
            "MAE Avg:  0.6822683413823446\n"
          ],
          "name": "stdout"
        }
      ]
    },
    {
      "cell_type": "code",
      "metadata": {
        "id": "5K8M_0FE-gJf",
        "colab_type": "code",
        "outputId": "98dcc933-7600-4e73-ee6b-3a255f230da6",
        "colab": {
          "base_uri": "https://localhost:8080/",
          "height": 34
        }
      },
      "source": [
        "! ls"
      ],
      "execution_count": 0,
      "outputs": [
        {
          "output_type": "stream",
          "text": [
            "best_results.csv  drive  sample_data\n"
          ],
          "name": "stdout"
        }
      ]
    },
    {
      "cell_type": "markdown",
      "metadata": {
        "id": "JAI7F2TA-gJj",
        "colab_type": "text"
      },
      "source": [
        "# Forecast Analysis"
      ]
    },
    {
      "cell_type": "markdown",
      "metadata": {
        "id": "ZBZn7ORexPse",
        "colab_type": "text"
      },
      "source": [
        "Open Best Results"
      ]
    },
    {
      "cell_type": "code",
      "metadata": {
        "id": "ErcWsco-qCpk",
        "colab_type": "code",
        "outputId": "0f28ee77-a512-41e2-bf02-d2e0845f1b7d",
        "colab": {
          "base_uri": "https://localhost:8080/",
          "height": 238
        }
      },
      "source": [
        "best_results_file = open('./drive/My Drive/Colab Notebooks/best_results_iter1.pkl', 'rb')\n",
        "best_results = pickle.load(best_results_file)\n",
        "best_results_file.close()\n",
        "best_results"
      ],
      "execution_count": 0,
      "outputs": [
        {
          "output_type": "execute_result",
          "data": {
            "text/plain": [
              "{1: 0.0019,\n",
              " 2: 0.0099,\n",
              " 5: 0.0398,\n",
              " 10: 0.1423,\n",
              " 20: 0.4006,\n",
              " 30: 0.3275,\n",
              " 40: 0.5698,\n",
              " 50: 0.6442,\n",
              " 60: 0.7623,\n",
              " 70: 0.8404,\n",
              " 80: 0.8718,\n",
              " 90: 0.7226,\n",
              " 100: 0.7986}"
            ]
          },
          "metadata": {
            "tags": []
          },
          "execution_count": 208
        }
      ]
    },
    {
      "cell_type": "markdown",
      "metadata": {
        "id": "gWSj3daHyPI1",
        "colab_type": "text"
      },
      "source": [
        "#### Graph Errors vs Forecast Length"
      ]
    },
    {
      "cell_type": "code",
      "metadata": {
        "id": "8V_D6cMc-gJj",
        "colab_type": "code",
        "outputId": "b3b8e240-0fb9-4ead-9105-59be94824ff9",
        "colab": {
          "base_uri": "https://localhost:8080/",
          "height": 421
        }
      },
      "source": [
        "# Setup dict; after run, it will see if run is better, replace if so\n",
        "time_steps =  np.array(list(best_results.keys()))\n",
        "errors = np.array(list(best_results.values()))\n",
        "time = time_steps * 0.0008 # Convert time step to seconds\n",
        "plt.plot(time, errors, 'o-', color=\"orange\")\n",
        "plt.xlabel(\"Forecast Length (s)\")\n",
        "plt.ylabel(\"Error (MSE)\")\n",
        "plt.title(\"Forecast Length v Error\")"
      ],
      "execution_count": 0,
      "outputs": [
        {
          "output_type": "execute_result",
          "data": {
            "text/plain": [
              "Text(0.5, 1.0, 'Forecast Length v Error')"
            ]
          },
          "metadata": {
            "tags": []
          },
          "execution_count": 64
        },
        {
          "output_type": "display_data",
          "data": {
            "image/png": "[encoded data removed]",
            "text/plain": [
              "<Figure size 576x432 with 1 Axes>"
            ]
          },
          "metadata": {
            "tags": [],
            "needs_background": "light"
          }
        }
      ]
    },
    {
      "cell_type": "code",
      "metadata": {
        "id": "dTbUxqwN-gJm",
        "colab_type": "code",
        "colab": {}
      },
      "source": [
        ""
      ],
      "execution_count": 0,
      "outputs": []
    },
    {
      "cell_type": "code",
      "metadata": {
        "id": "GqU6tXUF-gJu",
        "colab_type": "code",
        "colab": {}
      },
      "source": [
        ""
      ],
      "execution_count": 0,
      "outputs": []
    },
    {
      "cell_type": "code",
      "metadata": {
        "id": "pZ058Ibi-gJx",
        "colab_type": "code",
        "colab": {}
      },
      "source": [
        ""
      ],
      "execution_count": 0,
      "outputs": []
    },
    {
      "cell_type": "code",
      "metadata": {
        "id": "pjYdXUdd-gJ0",
        "colab_type": "code",
        "colab": {}
      },
      "source": [
        ""
      ],
      "execution_count": 0,
      "outputs": []
    },
    {
      "cell_type": "markdown",
      "metadata": {
        "id": "Ntwd97cMxIgV",
        "colab_type": "text"
      },
      "source": [
        "# SAVE BEFORE EXITING"
      ]
    },
    {
      "cell_type": "markdown",
      "metadata": {
        "id": "rzjufXDRykCm",
        "colab_type": "text"
      },
      "source": [
        "### Save Model"
      ]
    },
    {
      "cell_type": "code",
      "metadata": {
        "id": "55OwzQVByoVV",
        "colab_type": "code",
        "outputId": "af39438d-fdfb-49b5-f9ab-ddfe122af987",
        "colab": {
          "base_uri": "https://localhost:8080/",
          "height": 198
        }
      },
      "source": [
        "# Save the weights, model\n",
        "# model.save_weights('./checkpoints/lstm_32x32_fc_len_1_epochs_10') # Save weights\n",
        "model.save('./drive/My Drive/Colab Notebooks/saved_models/drift_grat') # Save model"
      ],
      "execution_count": 0,
      "outputs": [
        {
          "output_type": "error",
          "ename": "NameError",
          "evalue": "ignored",
          "traceback": [
            "\u001b[0;31m---------------------------------------------------------------------------\u001b[0m",
            "\u001b[0;31mNameError\u001b[0m                                 Traceback (most recent call last)",
            "\u001b[0;32m<ipython-input-68-7a9388b98884>\u001b[0m in \u001b[0;36m<module>\u001b[0;34m()\u001b[0m\n\u001b[1;32m      1\u001b[0m \u001b[0;31m# Save the weights, model\u001b[0m\u001b[0;34m\u001b[0m\u001b[0;34m\u001b[0m\u001b[0;34m\u001b[0m\u001b[0m\n\u001b[1;32m      2\u001b[0m \u001b[0;31m# model.save_weights('./checkpoints/lstm_32x32_fc_len_1_epochs_10') # Save weights\u001b[0m\u001b[0;34m\u001b[0m\u001b[0;34m\u001b[0m\u001b[0;34m\u001b[0m\u001b[0m\n\u001b[0;32m----> 3\u001b[0;31m \u001b[0mmodel\u001b[0m\u001b[0;34m.\u001b[0m\u001b[0msave\u001b[0m\u001b[0;34m(\u001b[0m\u001b[0;34m'./drive/My Drive/Colab Notebooks/saved_models/drift_grat'\u001b[0m\u001b[0;34m)\u001b[0m \u001b[0;31m# Save model\u001b[0m\u001b[0;34m\u001b[0m\u001b[0;34m\u001b[0m\u001b[0m\n\u001b[0m",
            "\u001b[0;31mNameError\u001b[0m: name 'model' is not defined"
          ]
        }
      ]
    },
    {
      "cell_type": "markdown",
      "metadata": {
        "id": "If4JNGJexLf2",
        "colab_type": "text"
      },
      "source": [
        "### Save Best Results"
      ]
    },
    {
      "cell_type": "code",
      "metadata": {
        "id": "i1cwdPGy-gJ7",
        "colab_type": "code",
        "colab": {}
      },
      "source": [
        "output = open('./drive/My Drive/Colab Notebooks/best_results.pkl', 'wb')\n",
        "pickle.dump(best_results, output)\n",
        "output.close()\n"
      ],
      "execution_count": 0,
      "outputs": []
    },
    {
      "cell_type": "code",
      "metadata": {
        "id": "zWcd9P1q-gKC",
        "colab_type": "code",
        "colab": {}
      },
      "source": [
        ""
      ],
      "execution_count": 0,
      "outputs": []
    },
    {
      "cell_type": "markdown",
      "metadata": {
        "id": "TY4Fg8ukcuFR",
        "colab_type": "text"
      },
      "source": [
        "## Functions"
      ]
    },
    {
      "cell_type": "code",
      "metadata": {
        "id": "SS5ppU7FAzcw",
        "colab_type": "code",
        "colab": {}
      },
      "source": [
        "def data_gen(data, batch_size, steps_per_epoch,\n",
        "                input_sequence_length, target_sequence_length, start):\n",
        "    \"\"\"Produce a batch of signals.\n",
        "\n",
        "    The signals are the sum of randomly generated sine waves.\n",
        "\n",
        "    Arguments\n",
        "    ---------\n",
        "    batch_size: Number of signals to produce.\n",
        "    steps_per_epoch: Number of batches of size batch_size produced by the\n",
        "        generator.\n",
        "    input_sequence_length: Length of the input signals to produce.\n",
        "    target_sequence_length: Length of the target signals to produce.\n",
        "    \n",
        "    Returns\n",
        "    -------\n",
        "    signals: 2D array of shape (batch_size, sequence_length)\n",
        "    \"\"\"\n",
        "    d = data[:,0]   # Remove a \"1\" from the data shape\n",
        "    num_points = input_sequence_length + target_sequence_length\n",
        "    x = np.arange(num_points) * 2*np.pi/30\n",
        "\n",
        "#     for i in range(1):\n",
        "    while True:\n",
        "       for j in range(0,steps_per_epoch):  # Each step per epoch\n",
        "\n",
        "        batch_data = np.zeros((batch_size, num_points))\n",
        "        for i in range(1,(batch_size+1)):\n",
        "          window = d[(-(num_points)-i-(steps_per_epoch*j)):-(i+steps_per_epoch*j)]\n",
        "\n",
        "          batch_data[i-1,:] = window\n",
        "\n",
        "\n",
        "        batch_data = np.expand_dims(batch_data, axis=2)\n",
        "        # print(batch_data)\n",
        "\n",
        "        encoder_input = batch_data[:, :input_sequence_length, :]\n",
        "        decoder_output = batch_data[:, input_sequence_length:, :]\n",
        "        decoder_input = np.zeros((decoder_output.shape[0], decoder_output.shape[1], 1))\n",
        "        yield ([encoder_input, decoder_input], decoder_output)"
      ],
      "execution_count": 0,
      "outputs": []
    },
    {
      "cell_type": "code",
      "metadata": {
        "id": "neFD_KyI26Zr",
        "colab_type": "code",
        "colab": {}
      },
      "source": [
        "def plot_prediction(x, y_true, y_pred):\n",
        "    \"\"\"Plots the predictions.\n",
        "    \n",
        "    Arguments\n",
        "    ---------\n",
        "    x: Input sequence of shape (input_sequence_length,\n",
        "        dimension_of_signal)\n",
        "    y_true: True output sequence of shape (input_sequence_length,\n",
        "        dimension_of_signal)\n",
        "    y_pred: Predicted output sequence (input_sequence_length,\n",
        "        dimension_of_signal)\n",
        "    \"\"\"\n",
        "\n",
        "    plt.figure(figsize=(12, 3))\n",
        "\n",
        "    output_dim = x.shape[-1]\n",
        "    for j in range(output_dim):\n",
        "        past = x[:, j] \n",
        "        true = y_true[:, j]\n",
        "        pred = y_pred[:, j]\n",
        "\n",
        "        label1 = \"Seen (past) values\" if j==0 else \"_nolegend_\"\n",
        "        label2 = \"True future values\" if j==0 else \"_nolegend_\"\n",
        "        label3 = \"Predictions\" if j==0 else \"_nolegend_\"\n",
        "\n",
        "        plt.plot(range(len(past)), past, \"o--b\",\n",
        "                 label=label1)\n",
        "        plt.plot(range(len(past),\n",
        "                 len(true)+len(past)), true, \"x--b\", label=label2)\n",
        "        plt.plot(range(len(past), len(pred)+len(past)), pred, \"o--y\",\n",
        "                 label=label3)\n",
        "    plt.legend(loc='best')\n",
        "    plt.title(\"Predictions v.s. true values\")\n",
        "    plt.show()"
      ],
      "execution_count": 0,
      "outputs": []
    },
    {
      "cell_type": "code",
      "metadata": {
        "id": "62mAZCs228i_",
        "colab_type": "code",
        "colab": {}
      },
      "source": [
        ""
      ],
      "execution_count": 0,
      "outputs": []
    }
  ]
}