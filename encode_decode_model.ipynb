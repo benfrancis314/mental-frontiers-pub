{
  "nbformat": 4,
  "nbformat_minor": 0,
  "metadata": {
    "kernelspec": {
      "display_name": "Python 3",
      "language": "python",
      "name": "python3"
    },
    "language_info": {
      "codemirror_mode": {
        "name": "ipython",
        "version": 3
      },
      "file_extension": ".py",
      "mimetype": "text/x-python",
      "name": "python",
      "nbconvert_exporter": "python",
      "pygments_lexer": "ipython3",
      "version": "3.7.6"
    },
    "colab": {
      "name": "encode_decode_model.ipynb",
      "provenance": [],
      "collapsed_sections": [],
      "toc_visible": true,
      "include_colab_link": true
    }
  },
  "cells": [
    {
      "cell_type": "markdown",
      "metadata": {
        "id": "view-in-github",
        "colab_type": "text"
      },
      "source": [
        "<a href=\"https://colab.research.google.com/github/benfrancis314/mental-frontiers-pub/blob/master/encode_decode_model.ipynb\" target=\"_parent\"><img src=\"https://colab.research.google.com/assets/colab-badge.svg\" alt=\"Open In Colab\"/></a>"
      ]
    },
    {
      "cell_type": "markdown",
      "metadata": {
        "id": "Fabs6Ii9-gID",
        "colab_type": "text"
      },
      "source": [
        "# Multi-step and Multivariate Forecasting"
      ]
    },
    {
      "cell_type": "code",
      "metadata": {
        "id": "51sY___3foel",
        "colab_type": "code",
        "outputId": "20faa61c-4e11-40cd-8b81-9072d5bbfd78",
        "colab": {
          "base_uri": "https://localhost:8080/",
          "height": 122
        }
      },
      "source": [
        "from google.colab import drive\n",
        "drive.mount('/content/drive')"
      ],
      "execution_count": 0,
      "outputs": [
        {
          "output_type": "stream",
          "text": [
            "Go to this URL in a browser: https://accounts.google.com/o/oauth2/auth?client_id=947318989803-6bn6qk8qdgf4n4g3pfee6491hc0brc4i.apps.googleusercontent.com&redirect_uri=urn%3aietf%3awg%3aoauth%3a2.0%3aoob&response_type=code&scope=email%20https%3a%2f%2fwww.googleapis.com%2fauth%2fdocs.test%20https%3a%2f%2fwww.googleapis.com%2fauth%2fdrive%20https%3a%2f%2fwww.googleapis.com%2fauth%2fdrive.photos.readonly%20https%3a%2f%2fwww.googleapis.com%2fauth%2fpeopleapi.readonly\n",
            "\n",
            "Enter your authorization code:\n",
            "··········\n",
            "Mounted at /content/drive\n"
          ],
          "name": "stdout"
        }
      ]
    },
    {
      "cell_type": "code",
      "metadata": {
        "id": "Gb7P4ZtU-gIE",
        "colab_type": "code",
        "colab": {}
      },
      "source": [
        "# System\n",
        "import os\n",
        "import shutil\n",
        "import time\n",
        "import pickle\n",
        "\n",
        "# Data science\n",
        "import math\n",
        "\n",
        "import tensorflow as tf\n",
        "from tensorflow import keras\n",
        "from tensorflow.keras import layers\n",
        "from tensorflow.keras.models import Sequential\n",
        "import numpy as np\n",
        "import pandas as pd\n",
        "import matplotlib as mpl\n",
        "import matplotlib.image  as mpimg\n",
        "from matplotlib import pyplot as plt\n",
        "from sklearn.datasets import fetch_california_housing\n",
        "from sklearn.model_selection import train_test_split\n",
        "from sklearn.preprocessing import StandardScaler\n",
        "\n",
        "mpl.rcParams['figure.figsize'] = (8, 6)\n",
        "mpl.rcParams['axes.grid'] = False"
      ],
      "execution_count": 0,
      "outputs": []
    },
    {
      "cell_type": "code",
      "metadata": {
        "id": "lq6jn6EQ-gIM",
        "colab_type": "code",
        "colab": {}
      },
      "source": [
        "tf.random.set_seed(7) # Bc luck doesn't hurt\n",
        "np.random.seed(7)\n"
      ],
      "execution_count": 0,
      "outputs": []
    },
    {
      "cell_type": "markdown",
      "metadata": {
        "id": "XNIebN20-gIO",
        "colab_type": "text"
      },
      "source": [
        "## Get Data from Drive"
      ]
    },
    {
      "cell_type": "code",
      "metadata": {
        "id": "h2NUbZ7AyzTG",
        "colab_type": "code",
        "outputId": "c4253bf7-475a-4fd7-aab7-7e7a5f5888ba",
        "colab": {
          "base_uri": "https://localhost:8080/",
          "height": 272
        }
      },
      "source": [
        "drift_grat_file = open('./drive/My Drive/Colab Notebooks/drift_grat.pickle', 'rb')\n",
        "drift_grat = pickle.load(drift_grat_file)\n",
        "drift_grat_file.close()\n",
        "df = drift_grat\n",
        "df.head"
      ],
      "execution_count": 0,
      "outputs": [
        {
          "output_type": "execute_result",
          "data": {
            "text/plain": [
              "<bound method NDFrame.head of                   LFP       Ch2       Ch3  ...      Ch84          Ch85      Ch86\n",
              "time                                       ...                                  \n",
              "5000.000243 -0.000090  0.000225  0.000223  ... -0.000050  1.170000e-06 -0.000003\n",
              "5000.001043 -0.000137  0.000222  0.000215  ... -0.000062 -1.228500e-05 -0.000009\n",
              "5000.001843 -0.000221  0.000234  0.000222  ... -0.000064 -2.008500e-05 -0.000019\n",
              "5000.002643 -0.000306  0.000217  0.000239  ... -0.000052 -2.925000e-05 -0.000019\n",
              "5000.003443 -0.000350  0.000211  0.000222  ... -0.000061 -3.783000e-05 -0.000023\n",
              "...               ...       ...       ...  ...       ...           ...       ...\n",
              "5349.996410  0.000012  0.000042  0.000038  ...  0.000000 -1.950000e-07 -0.000020\n",
              "5349.997210 -0.000018  0.000056  0.000051  ... -0.000007  8.580000e-06 -0.000014\n",
              "5349.998010 -0.000030  0.000022  0.000031  ...  0.000004  6.045000e-06 -0.000031\n",
              "5349.998810 -0.000019  0.000044  0.000047  ... -0.000005 -4.875000e-06 -0.000020\n",
              "5349.999610 -0.000026  0.000107  0.000128  ...  0.000004  7.215000e-06 -0.000005\n",
              "\n",
              "[437500 rows x 86 columns]>"
            ]
          },
          "metadata": {
            "tags": []
          },
          "execution_count": 8
        }
      ]
    },
    {
      "cell_type": "markdown",
      "metadata": {
        "id": "bt4a6smpb87g",
        "colab_type": "text"
      },
      "source": [
        "#### Select Channels"
      ]
    },
    {
      "cell_type": "code",
      "metadata": {
        "id": "cfvzwOvm-gIe",
        "colab_type": "code",
        "outputId": "cfd63131-bdf0-412f-dae1-72404c4372db",
        "colab": {
          "base_uri": "https://localhost:8080/",
          "height": 235
        }
      },
      "source": [
        "features_considered = ['Ch50'] # Add , 'Ch51', 'Ch52'\n",
        "features = df[features_considered]\n",
        "features.head()"
      ],
      "execution_count": 0,
      "outputs": [
        {
          "output_type": "execute_result",
          "data": {
            "text/html": [
              "<div>\n",
              "<style scoped>\n",
              "    .dataframe tbody tr th:only-of-type {\n",
              "        vertical-align: middle;\n",
              "    }\n",
              "\n",
              "    .dataframe tbody tr th {\n",
              "        vertical-align: top;\n",
              "    }\n",
              "\n",
              "    .dataframe thead th {\n",
              "        text-align: right;\n",
              "    }\n",
              "</style>\n",
              "<table border=\"1\" class=\"dataframe\">\n",
              "  <thead>\n",
              "    <tr style=\"text-align: right;\">\n",
              "      <th></th>\n",
              "      <th>Ch50</th>\n",
              "    </tr>\n",
              "    <tr>\n",
              "      <th>time</th>\n",
              "      <th></th>\n",
              "    </tr>\n",
              "  </thead>\n",
              "  <tbody>\n",
              "    <tr>\n",
              "      <th>5000.000243</th>\n",
              "      <td>0.000004</td>\n",
              "    </tr>\n",
              "    <tr>\n",
              "      <th>5000.001043</th>\n",
              "      <td>-0.000096</td>\n",
              "    </tr>\n",
              "    <tr>\n",
              "      <th>5000.001843</th>\n",
              "      <td>-0.000234</td>\n",
              "    </tr>\n",
              "    <tr>\n",
              "      <th>5000.002643</th>\n",
              "      <td>-0.000370</td>\n",
              "    </tr>\n",
              "    <tr>\n",
              "      <th>5000.003443</th>\n",
              "      <td>-0.000432</td>\n",
              "    </tr>\n",
              "  </tbody>\n",
              "</table>\n",
              "</div>"
            ],
            "text/plain": [
              "                 Ch50\n",
              "time                 \n",
              "5000.000243  0.000004\n",
              "5000.001043 -0.000096\n",
              "5000.001843 -0.000234\n",
              "5000.002643 -0.000370\n",
              "5000.003443 -0.000432"
            ]
          },
          "metadata": {
            "tags": []
          },
          "execution_count": 17
        }
      ]
    },
    {
      "cell_type": "markdown",
      "metadata": {
        "id": "pXfwMjZcb4fz",
        "colab_type": "text"
      },
      "source": [
        "#### Verify data is imported properly"
      ]
    },
    {
      "cell_type": "code",
      "metadata": {
        "id": "xRigU7Be-gIo",
        "colab_type": "code",
        "outputId": "e8821a19-8e3d-4d3e-8da4-bbd5adc33727",
        "colab": {
          "base_uri": "https://localhost:8080/",
          "height": 401
        }
      },
      "source": [
        "features.plot(subplots=True)"
      ],
      "execution_count": 0,
      "outputs": [
        {
          "output_type": "execute_result",
          "data": {
            "text/plain": [
              "array([<matplotlib.axes._subplots.AxesSubplot object at 0x7f48cc8e2fd0>],\n",
              "      dtype=object)"
            ]
          },
          "metadata": {
            "tags": []
          },
          "execution_count": 18
        },
        {
          "output_type": "display_data",
          "data": {
            "image/png": "[encoded data removed]",
            "text/plain": [
              "<Figure size 576x432 with 1 Axes>"
            ]
          },
          "metadata": {
            "tags": [],
            "needs_background": "light"
          }
        }
      ]
    },
    {
      "cell_type": "code",
      "metadata": {
        "id": "52jEa8R_bEQr",
        "colab_type": "code",
        "outputId": "5c86ce2c-16ab-4178-fb2f-386856fd4f6d",
        "colab": {
          "base_uri": "https://localhost:8080/",
          "height": 34
        }
      },
      "source": [
        "data = features.values\n",
        "data.shape"
      ],
      "execution_count": 0,
      "outputs": [
        {
          "output_type": "execute_result",
          "data": {
            "text/plain": [
              "(437500, 1)"
            ]
          },
          "metadata": {
            "tags": []
          },
          "execution_count": 19
        }
      ]
    },
    {
      "cell_type": "code",
      "metadata": {
        "id": "aBAHG93tL37c",
        "colab_type": "code",
        "colab": {}
      },
      "source": [
        "TRAIN_SPLIT = 300000  # Training Split\n",
        "dataset = features.values\n",
        "data_mean = dataset[:TRAIN_SPLIT].mean(axis=0)\n",
        "data_std = dataset[:TRAIN_SPLIT].std(axis=0)\n",
        "dataset = (dataset-data_mean)/data_std  # Standardize again\n",
        "\n",
        "# Sec 2\n",
        "BATCH_SIZE = 32\n",
        "BUFFER_SIZE = 10000\n",
        "\n",
        "EVALUATION_INTERVAL = 200 #TRAIN_SPLT // BATCH_SIZE\n",
        "EPOCHS = 5"
      ],
      "execution_count": 0,
      "outputs": []
    },
    {
      "cell_type": "code",
      "metadata": {
        "id": "vLjaViAtPfW9",
        "colab_type": "code",
        "colab": {}
      },
      "source": [
        "def format_data(dataset, target, start_index, end_index, window_size,\n",
        "                      forecast_length):\n",
        "  data = []\n",
        "  labels = []\n",
        "\n",
        "  start_index = start_index + window_size\n",
        "  if end_index is None:\n",
        "    end_index = len(dataset) - forecast_length\n",
        "\n",
        "  for i in range(start_index, end_index):\n",
        "    indices = range(i-window_size, i)\n",
        "    window = dataset[indices]\n",
        "    window_plus_decoder = np.append(window, 0, 0)\n",
        "    data.append(dataset[indices])\n",
        "    labels.append(dataset[i:i+forecast_length])     # Or append to target, if you don't want to try to predict all the data\n",
        "\n",
        "  return [np.array(data)], np.array(labels)"
      ],
      "execution_count": 0,
      "outputs": []
    },
    {
      "cell_type": "code",
      "metadata": {
        "id": "KGDP1LsKPiZX",
        "colab_type": "code",
        "outputId": "f700453e-e114-4d16-fef3-1da64f5cab15",
        "colab": {
          "base_uri": "https://localhost:8080/",
          "height": 34
        }
      },
      "source": [
        "x_train[0].shape"
      ],
      "execution_count": 0,
      "outputs": [
        {
          "output_type": "execute_result",
          "data": {
            "text/plain": [
              "(599940,)"
            ]
          },
          "metadata": {
            "tags": []
          },
          "execution_count": 37
        }
      ]
    },
    {
      "cell_type": "code",
      "metadata": {
        "id": "doFftPpdL523",
        "colab_type": "code",
        "outputId": "24766e54-5872-47fb-9200-0f64ed03266c",
        "colab": {
          "base_uri": "https://localhost:8080/",
          "height": 463
        }
      },
      "source": [
        "# May take a moment\n",
        "window_size = 30  # Past history to incorporate\n",
        "forecast_length = 50  # Forecast length\n",
        "\n",
        "x_train, y_train = format_data(dataset, dataset[:,0], 0, TRAIN_SPLIT, window_size,\n",
        "                                                 forecast_length)\n",
        "x_val, y_val = format_data(dataset, dataset[:,0], 0, TRAIN_SPLIT, window_size,\n",
        "                                                 forecast_length)\n",
        "\n",
        "# train_data = tf.data.Dataset.from_tensor_slices((x_train, y_train))\n",
        "# train_data = train_data.cache().shuffle(BUFFER_SIZE).batch(BATCH_SIZE, drop_remainder = True).repeat()\n",
        "\n",
        "# val_data = tf.data.Dataset.from_tensor_slices((x_val, y_val))\n",
        "# val_data = val_data.batch(BATCH_SIZE, drop_remainder = True).repeat()"
      ],
      "execution_count": 0,
      "outputs": [
        {
          "output_type": "error",
          "ename": "ValueError",
          "evalue": "ignored",
          "traceback": [
            "\u001b[0;31m---------------------------------------------------------------------------\u001b[0m",
            "\u001b[0;31mValueError\u001b[0m                                Traceback (most recent call last)",
            "\u001b[0;32m<ipython-input-43-7319084d277b>\u001b[0m in \u001b[0;36m<module>\u001b[0;34m()\u001b[0m\n\u001b[1;32m      4\u001b[0m \u001b[0;34m\u001b[0m\u001b[0m\n\u001b[1;32m      5\u001b[0m x_train, y_train = format_data(dataset, dataset[:,0], 0, TRAIN_SPLIT, window_size,\n\u001b[0;32m----> 6\u001b[0;31m                                                  forecast_length)\n\u001b[0m\u001b[1;32m      7\u001b[0m x_val, y_val = format_data(dataset, dataset[:,0], 0, TRAIN_SPLIT, window_size,\n\u001b[1;32m      8\u001b[0m                                                  forecast_length)\n",
            "\u001b[0;32m<ipython-input-42-55f92158f751>\u001b[0m in \u001b[0;36mformat_data\u001b[0;34m(dataset, target, start_index, end_index, window_size, forecast_length)\u001b[0m\n\u001b[1;32m     11\u001b[0m     \u001b[0mindices\u001b[0m \u001b[0;34m=\u001b[0m \u001b[0mrange\u001b[0m\u001b[0;34m(\u001b[0m\u001b[0mi\u001b[0m\u001b[0;34m-\u001b[0m\u001b[0mwindow_size\u001b[0m\u001b[0;34m,\u001b[0m \u001b[0mi\u001b[0m\u001b[0;34m)\u001b[0m\u001b[0;34m\u001b[0m\u001b[0;34m\u001b[0m\u001b[0m\n\u001b[1;32m     12\u001b[0m     \u001b[0mwindow\u001b[0m \u001b[0;34m=\u001b[0m \u001b[0mdataset\u001b[0m\u001b[0;34m[\u001b[0m\u001b[0mindices\u001b[0m\u001b[0;34m]\u001b[0m\u001b[0;34m\u001b[0m\u001b[0;34m\u001b[0m\u001b[0m\n\u001b[0;32m---> 13\u001b[0;31m     \u001b[0mwindow_plus_decoder\u001b[0m \u001b[0;34m=\u001b[0m \u001b[0mnp\u001b[0m\u001b[0;34m.\u001b[0m\u001b[0mappend\u001b[0m\u001b[0;34m(\u001b[0m\u001b[0mwindow\u001b[0m\u001b[0;34m,\u001b[0m \u001b[0;36m0\u001b[0m\u001b[0;34m,\u001b[0m \u001b[0;36m0\u001b[0m\u001b[0;34m)\u001b[0m\u001b[0;34m\u001b[0m\u001b[0;34m\u001b[0m\u001b[0m\n\u001b[0m\u001b[1;32m     14\u001b[0m     \u001b[0mdata\u001b[0m\u001b[0;34m.\u001b[0m\u001b[0mappend\u001b[0m\u001b[0;34m(\u001b[0m\u001b[0mdataset\u001b[0m\u001b[0;34m[\u001b[0m\u001b[0mindices\u001b[0m\u001b[0;34m]\u001b[0m\u001b[0;34m)\u001b[0m\u001b[0;34m\u001b[0m\u001b[0;34m\u001b[0m\u001b[0m\n\u001b[1;32m     15\u001b[0m     \u001b[0mlabels\u001b[0m\u001b[0;34m.\u001b[0m\u001b[0mappend\u001b[0m\u001b[0;34m(\u001b[0m\u001b[0mdataset\u001b[0m\u001b[0;34m[\u001b[0m\u001b[0mi\u001b[0m\u001b[0;34m:\u001b[0m\u001b[0mi\u001b[0m\u001b[0;34m+\u001b[0m\u001b[0mforecast_length\u001b[0m\u001b[0;34m]\u001b[0m\u001b[0;34m)\u001b[0m     \u001b[0;31m# Or append to target, if you don't want to try to predict all the data\u001b[0m\u001b[0;34m\u001b[0m\u001b[0;34m\u001b[0m\u001b[0m\n",
            "\u001b[0;32m<__array_function__ internals>\u001b[0m in \u001b[0;36mappend\u001b[0;34m(*args, **kwargs)\u001b[0m\n",
            "\u001b[0;32m/usr/local/lib/python3.6/dist-packages/numpy/lib/function_base.py\u001b[0m in \u001b[0;36mappend\u001b[0;34m(arr, values, axis)\u001b[0m\n\u001b[1;32m   4691\u001b[0m         \u001b[0mvalues\u001b[0m \u001b[0;34m=\u001b[0m \u001b[0mravel\u001b[0m\u001b[0;34m(\u001b[0m\u001b[0mvalues\u001b[0m\u001b[0;34m)\u001b[0m\u001b[0;34m\u001b[0m\u001b[0;34m\u001b[0m\u001b[0m\n\u001b[1;32m   4692\u001b[0m         \u001b[0maxis\u001b[0m \u001b[0;34m=\u001b[0m \u001b[0marr\u001b[0m\u001b[0;34m.\u001b[0m\u001b[0mndim\u001b[0m\u001b[0;34m-\u001b[0m\u001b[0;36m1\u001b[0m\u001b[0;34m\u001b[0m\u001b[0;34m\u001b[0m\u001b[0m\n\u001b[0;32m-> 4693\u001b[0;31m     \u001b[0;32mreturn\u001b[0m \u001b[0mconcatenate\u001b[0m\u001b[0;34m(\u001b[0m\u001b[0;34m(\u001b[0m\u001b[0marr\u001b[0m\u001b[0;34m,\u001b[0m \u001b[0mvalues\u001b[0m\u001b[0;34m)\u001b[0m\u001b[0;34m,\u001b[0m \u001b[0maxis\u001b[0m\u001b[0;34m=\u001b[0m\u001b[0maxis\u001b[0m\u001b[0;34m)\u001b[0m\u001b[0;34m\u001b[0m\u001b[0;34m\u001b[0m\u001b[0m\n\u001b[0m\u001b[1;32m   4694\u001b[0m \u001b[0;34m\u001b[0m\u001b[0m\n\u001b[1;32m   4695\u001b[0m \u001b[0;34m\u001b[0m\u001b[0m\n",
            "\u001b[0;32m<__array_function__ internals>\u001b[0m in \u001b[0;36mconcatenate\u001b[0;34m(*args, **kwargs)\u001b[0m\n",
            "\u001b[0;31mValueError\u001b[0m: all the input arrays must have same number of dimensions, but the array at index 0 has 2 dimension(s) and the array at index 1 has 0 dimension(s)"
          ]
        }
      ]
    },
    {
      "cell_type": "markdown",
      "metadata": {
        "id": "D4Jygp0Eh4WO",
        "colab_type": "text"
      },
      "source": [
        "## TF&K Encoder Model"
      ]
    },
    {
      "cell_type": "code",
      "metadata": {
        "id": "0szJP4DIh7HX",
        "colab_type": "code",
        "colab": {}
      },
      "source": [
        ""
      ],
      "execution_count": 0,
      "outputs": []
    },
    {
      "cell_type": "code",
      "metadata": {
        "id": "ZE6OZF_9h7Ks",
        "colab_type": "code",
        "colab": {}
      },
      "source": [
        "import tensorflow_addons as tfa\n",
        "\n",
        "encoder_inputs = keras.layers.Input(shape=[None], dtype=np.int32)\n",
        "decoder_inputs = keras.layers.Input(shape=[None], dtype=np.int32)\n",
        "sequence_lengths = keras.layers.Input(shape=[], dtype=np.int32)\n",
        "\n",
        "embeddings = keras.layers.Embedding(vocab_size, embed_size)\n",
        "encoder_embeddings = embeddings(encoder_inputs)\n",
        "decoder_embeddings = embeddings(decoder_inputs)\n",
        "\n",
        "encoder = keras.layers.LSTM(512, return_state=True)\n",
        "encoder_outputs, state_h, state_c = encoder(encoder_embeddings)\n",
        "encoder_state = [state_h, state_c]\n",
        "\n",
        "sampler = tfa.seq2seq.sampler.TrainingSampler()\n",
        "\n",
        "decoder_cell = keras.layers.LSTMCell(512)\n",
        "output_layer = keras.layers.Dense(vocab_size)\n",
        "decoder = tfa.seq2seq.basic_decoder.BasicDecoder(decoder_cell, sampler,\n",
        "                                                 output_layer=output_layer)\n",
        "final_outputs, final_state, final_sequence_lengths = decoder(\n",
        "    decoder_embeddings, initial_state=encoder_state,\n",
        "    sequence_length=sequence_lengths)\n",
        "Y_proba = tf.nn.softmax(final_outputs.rnn_output)\n",
        "\n",
        "model = keras.Model(inputs=[encoder_inputs, decoder_inputs, sequence_lengths],\n",
        "                    outputs=[Y_proba])"
      ],
      "execution_count": 0,
      "outputs": []
    },
    {
      "cell_type": "code",
      "metadata": {
        "id": "X1-tNLe-h7SO",
        "colab_type": "code",
        "colab": {}
      },
      "source": [
        ""
      ],
      "execution_count": 0,
      "outputs": []
    },
    {
      "cell_type": "code",
      "metadata": {
        "id": "39khLLPuh7QS",
        "colab_type": "code",
        "colab": {}
      },
      "source": [
        ""
      ],
      "execution_count": 0,
      "outputs": []
    },
    {
      "cell_type": "code",
      "metadata": {
        "id": "gGTaOFKXh7Nn",
        "colab_type": "code",
        "colab": {}
      },
      "source": [
        ""
      ],
      "execution_count": 0,
      "outputs": []
    },
    {
      "cell_type": "markdown",
      "metadata": {
        "id": "pT9xaKkuyGVY",
        "colab_type": "text"
      },
      "source": [
        "# ENCODER MODEL"
      ]
    },
    {
      "cell_type": "markdown",
      "metadata": {
        "id": "ZiQttjpmyQHv",
        "colab_type": "text"
      },
      "source": [
        "#### Model Setup"
      ]
    },
    {
      "cell_type": "code",
      "metadata": {
        "id": "AVVpuk0GyFrR",
        "colab_type": "code",
        "colab": {}
      },
      "source": [
        "# keras.backend.clear_session()\n",
        "\n",
        "layers = [35, 35] # Number of hidden neurons in each layer of the encoder and decoder\n",
        "\n",
        "learning_rate = 0.01\n",
        "decay = 0 # Learning rate decay\n",
        "optimiser = keras.optimizers.Adam(lr=learning_rate, decay=decay) # Other possible optimiser \"sgd\" (Stochastic Gradient Descent)\n",
        "\n",
        "num_input_features = 1 # The dimensionality of the input at each time step. In this case a 1D signal.\n",
        "num_output_features = 1 # The dimensionality of the output at each time step. In this case a 1D signal.\n",
        "# There is no reason for the input sequence to be of same dimension as the ouput sequence.\n",
        "# For instance, using 3 input signals: consumer confidence, inflation and house prices to predict the future house prices.\n",
        "\n",
        "loss = \"mse\" # Other loss functions are possible, see Keras documentation.\n",
        "\n",
        "# Regularisation isn't really needed for this application\n",
        "lambda_regulariser = 0.000001 # Will not be used if regulariser is None\n",
        "regulariser = None # Possible regulariser: keras.regularizers.l2(lambda_regulariser)\n",
        "\n",
        "batch_size = 32 # 512\n",
        "steps_per_epoch = 200 # batch_size * steps_per_epoch = total number of training examples\n",
        "epochs = 3 # 15\n",
        "\n",
        "input_sequence_length = 15 # Length of the sequence used by the encoder\n",
        "target_sequence_length = 15 # Length of the sequence predicted by the decoder\n",
        "num_steps_to_predict = 20 # Length to use when testing the model"
      ],
      "execution_count": 0,
      "outputs": []
    },
    {
      "cell_type": "code",
      "metadata": {
        "id": "Q1NsQG_fX_Py",
        "colab_type": "code",
        "colab": {}
      },
      "source": [
        "for i in layers:\n",
        "  print(1)"
      ],
      "execution_count": 0,
      "outputs": []
    },
    {
      "cell_type": "markdown",
      "metadata": {
        "id": "lm4zZSoSyTSr",
        "colab_type": "text"
      },
      "source": [
        "#### Encoder"
      ]
    },
    {
      "cell_type": "code",
      "metadata": {
        "id": "QIu12UmByFwb",
        "colab_type": "code",
        "colab": {}
      },
      "source": [
        "# Define an input sequence.\n",
        "encoder_inputs = keras.layers.Input(shape=(None, num_input_features))\n",
        "\n",
        "# Create a list of RNN Cells, these are then concatenated into a single layer\n",
        "# with the RNN layer.\n",
        "encoder_cells = []\n",
        "for hidden_neurons in layers:\n",
        "    encoder_cells.append(keras.layers.GRUCell(hidden_neurons,\n",
        "                                              kernel_regularizer=regulariser,\n",
        "                                              recurrent_regularizer=regulariser,\n",
        "                                              bias_regularizer=regulariser))\n",
        "\n",
        "encoder = keras.layers.RNN(encoder_cells, return_state=True)\n",
        "\n",
        "encoder_outputs_and_states = encoder(encoder_inputs)\n",
        "\n",
        "# Discard encoder outputs and only keep the states.\n",
        "# The outputs are of no interest to us, the encoder's\n",
        "# job is to create a state describing the input sequence.\n",
        "encoder_states = encoder_outputs_and_states[1:]"
      ],
      "execution_count": 0,
      "outputs": []
    },
    {
      "cell_type": "markdown",
      "metadata": {
        "id": "wD75LiM8yZ0_",
        "colab_type": "text"
      },
      "source": [
        "#### Decoder"
      ]
    },
    {
      "cell_type": "code",
      "metadata": {
        "id": "2ZAupXlRyF6G",
        "colab_type": "code",
        "colab": {}
      },
      "source": [
        "# The decoder input will be set to zero (see random_sine function of the utils module).\n",
        "# Do not worry about the input size being 1, I will explain that in the next cell.\n",
        "decoder_inputs = keras.layers.Input(shape=(None, 1))\n",
        "\n",
        "decoder_cells = []\n",
        "for hidden_neurons in layers:\n",
        "    decoder_cells.append(keras.layers.GRUCell(hidden_neurons,\n",
        "                                              kernel_regularizer=regulariser,\n",
        "                                              recurrent_regularizer=regulariser,\n",
        "                                              bias_regularizer=regulariser))\n",
        "\n",
        "decoder = keras.layers.RNN(decoder_cells, return_sequences=True, return_state=True)\n",
        "\n",
        "# Set the initial state of the decoder to be the ouput state of the encoder.\n",
        "# This is the fundamental part of the encoder-decoder.\n",
        "decoder_outputs_and_states = decoder(decoder_inputs, initial_state=encoder_states)\n",
        "\n",
        "# Only select the output of the decoder (not the states)\n",
        "decoder_outputs = decoder_outputs_and_states[0]\n",
        "\n",
        "# Apply a dense layer with linear activation to set output to correct dimension\n",
        "# and scale (tanh is default activation for GRU in Keras, our output sine function can be larger then 1)\n",
        "decoder_dense = keras.layers.Dense(num_output_features,\n",
        "                                   activation='linear',\n",
        "                                   kernel_regularizer=regulariser,\n",
        "                                   bias_regularizer=regulariser)\n",
        "\n",
        "decoder_outputs = decoder_dense(decoder_outputs)"
      ],
      "execution_count": 0,
      "outputs": []
    },
    {
      "cell_type": "markdown",
      "metadata": {
        "id": "dPzLsaQ6yeAg",
        "colab_type": "text"
      },
      "source": [
        "#### Run Model"
      ]
    },
    {
      "cell_type": "code",
      "metadata": {
        "id": "Da_OOl8XyF4u",
        "colab_type": "code",
        "colab": {}
      },
      "source": [
        "# Create a model using the functional API provided by Keras.\n",
        "# The functional API is great, it gives an amazing amount of freedom in architecture of your NN.\n",
        "# A read worth your time: https://keras.io/getting-started/functional-api-guide/ \n",
        "model = keras.models.Model(inputs=[encoder_inputs, decoder_inputs], outputs=decoder_outputs)\n",
        "model.compile(optimizer=optimiser, loss=loss)"
      ],
      "execution_count": 0,
      "outputs": []
    },
    {
      "cell_type": "code",
      "metadata": {
        "id": "TKl60t3EUZXX",
        "colab_type": "code",
        "colab": {}
      },
      "source": [
        "# random_sine returns a generator that produces batches of training samples ([encoder_input, decoder_input], decoder_output)\n",
        "# You can play with the min max frequencies of the sine waves, the number of sine waves that are summed etc...\n",
        "# Another interesing exercise could be to see whether the model generalises well on sums of 3 signals if it's only been\n",
        "# trained on sums of 2 signals...\n",
        "train_data_generator = data_gen(data=data,batch_size=batch_size,\n",
        "                                   steps_per_epoch=steps_per_epoch,\n",
        "                                   input_sequence_length=input_sequence_length,\n",
        "                                   target_sequence_length=target_sequence_length)\n"
      ],
      "execution_count": 0,
      "outputs": []
    },
    {
      "cell_type": "code",
      "metadata": {
        "id": "rOP6ZUriqZV-",
        "colab_type": "code",
        "colab": {}
      },
      "source": [
        ""
      ],
      "execution_count": 0,
      "outputs": []
    },
    {
      "cell_type": "markdown",
      "metadata": {
        "id": "PdIOCsum-wH0",
        "colab_type": "text"
      },
      "source": [
        "##### Study the following process for getting data ready"
      ]
    },
    {
      "cell_type": "code",
      "metadata": {
        "id": "tFZQaadh_TMY",
        "colab_type": "code",
        "colab": {}
      },
      "source": [
        "def univariate_data(dataset, start_index, end_index, history_size, target_size):\n",
        "  data = []\n",
        "  labels = []\n",
        "\n",
        "  start_index = start_index + history_size\n",
        "  if end_index is None:\n",
        "    end_index = len(dataset) - target_size\n",
        "\n",
        "  for i in range(start_index, end_index):\n",
        "    indices = range(i-history_size, i)\n",
        "    # Reshape data from (history_size,) to (history_size, 1)\n",
        "    data.append(np.reshape(dataset[indices], (history_size, 1)))\n",
        "    labels.append(dataset[i+target_size])\n",
        "  return np.array(data), np.array(labels)"
      ],
      "execution_count": 0,
      "outputs": []
    },
    {
      "cell_type": "code",
      "metadata": {
        "id": "-kH0vFJ8qZiy",
        "colab_type": "code",
        "colab": {}
      },
      "source": [
        "univariate_past_history = 20\n",
        "univariate_future_target = 0\n",
        "\n",
        "x_train_uni, y_train_uni = univariate_data(uni_data, 0, TRAIN_SPLIT,\n",
        "                                           univariate_past_history,\n",
        "                                           univariate_future_target)\n",
        "x_val_uni, y_val_uni = univariate_data(uni_data, TRAIN_SPLIT, None,\n",
        "                                       univariate_past_history,\n",
        "                                       univariate_future_target)"
      ],
      "execution_count": 0,
      "outputs": []
    },
    {
      "cell_type": "code",
      "metadata": {
        "id": "yeAvD4HUqZev",
        "colab_type": "code",
        "colab": {}
      },
      "source": [
        "BATCH_SIZE = 256\n",
        "BUFFER_SIZE = 10000\n",
        "\n",
        "train_univariate = tf.data.Dataset.from_tensor_slices((x_train_uni, y_train_uni))\n",
        "train_univariate = train_univariate.cache().shuffle(BUFFER_SIZE).batch(BATCH_SIZE).repeat()\n",
        "\n",
        "val_univariate = tf.data.Dataset.from_tensor_slices((x_val_uni, y_val_uni))\n",
        "val_univariate = val_univariate.batch(BATCH_SIZE).repeat()"
      ],
      "execution_count": 0,
      "outputs": []
    },
    {
      "cell_type": "code",
      "metadata": {
        "id": "FVseGjQ3qZcv",
        "colab_type": "code",
        "colab": {}
      },
      "source": [
        ""
      ],
      "execution_count": 0,
      "outputs": []
    },
    {
      "cell_type": "code",
      "metadata": {
        "id": "vnz02pOmqZap",
        "colab_type": "code",
        "colab": {}
      },
      "source": [
        ""
      ],
      "execution_count": 0,
      "outputs": []
    },
    {
      "cell_type": "code",
      "metadata": {
        "id": "u9c10fWFqZUR",
        "colab_type": "code",
        "colab": {}
      },
      "source": [
        ""
      ],
      "execution_count": 0,
      "outputs": []
    },
    {
      "cell_type": "code",
      "metadata": {
        "id": "iWt1ildCqZRZ",
        "colab_type": "code",
        "colab": {}
      },
      "source": [
        ""
      ],
      "execution_count": 0,
      "outputs": []
    },
    {
      "cell_type": "code",
      "metadata": {
        "id": "_MG8BNmSkHmt",
        "colab_type": "code",
        "colab": {}
      },
      "source": [
        "model.fit(train_data_generator, verbose=0, steps_per_epoch=steps_per_epoch, epochs=epochs)"
      ],
      "execution_count": 0,
      "outputs": []
    },
    {
      "cell_type": "code",
      "metadata": {
        "id": "mFwwT_KnUZaQ",
        "colab_type": "code",
        "colab": {}
      },
      "source": [
        ""
      ],
      "execution_count": 0,
      "outputs": []
    },
    {
      "cell_type": "code",
      "metadata": {
        "id": "AImoIVJ7UZfm",
        "colab_type": "code",
        "colab": {}
      },
      "source": [
        "def random_sine(batch_size, steps_per_epoch,\n",
        "                input_sequence_length, target_sequence_length,\n",
        "                min_frequency=0.1, max_frequency=10,\n",
        "                min_amplitude=0.1, max_amplitude=1,\n",
        "                min_offset=-0.5, max_offset=0.5,\n",
        "                num_signals=3, seed=43):\n",
        "    \"\"\"Produce a batch of signals.\n",
        "\n",
        "    The signals are the sum of randomly generated sine waves.\n",
        "\n",
        "    Arguments\n",
        "    ---------\n",
        "    batch_size: Number of signals to produce.\n",
        "    steps_per_epoch: Number of batches of size batch_size produced by the\n",
        "        generator.\n",
        "    input_sequence_length: Length of the input signals to produce.\n",
        "    target_sequence_length: Length of the target signals to produce.\n",
        "    min_frequency: Minimum frequency of the base signals that are summed.\n",
        "    max_frequency: Maximum frequency of the base signals that are summed.\n",
        "    min_amplitude: Minimum amplitude of the base signals that are summed.\n",
        "    max_amplitude: Maximum amplitude of the base signals that are summed.\n",
        "    min_offset: Minimum offset of the base signals that are summed.\n",
        "    max_offset: Maximum offset of the base signals that are summed.\n",
        "    num_signals: Number of signals that are summed together.\n",
        "    seed: The seed used for generating random numbers\n",
        "    \n",
        "    Returns\n",
        "    -------\n",
        "    signals: 2D array of shape (batch_size, sequence_length)\n",
        "    \"\"\"\n",
        "    num_points = input_sequence_length + target_sequence_length\n",
        "    x = np.arange(num_points) * 2*np.pi/30\n",
        "\n",
        "    while True:\n",
        "        # Reset seed to obtain same sequences from epoch to epoch\n",
        "        np.random.seed(seed)\n",
        "\n",
        "        for _ in range(steps_per_epoch):\n",
        "            signals = np.zeros((batch_size, num_points))\n",
        "            for _ in range(num_signals):\n",
        "                # Generate random amplitude, frequence, offset, phase \n",
        "                amplitude = (np.random.rand(batch_size, 1) * \n",
        "                            (max_amplitude - min_amplitude) +\n",
        "                             min_amplitude)\n",
        "                frequency = (np.random.rand(batch_size, 1) * \n",
        "                            (max_frequency - min_frequency) + \n",
        "                             min_frequency)\n",
        "                offset = (np.random.rand(batch_size, 1) * \n",
        "                         (max_offset - min_offset) + \n",
        "                          min_offset)\n",
        "                phase = np.random.rand(batch_size, 1) * 2 * np.pi \n",
        "                         \n",
        "\n",
        "                signals += amplitude * np.sin(frequency * x + phase)\n",
        "            signals = np.expand_dims(signals, axis=2)\n",
        "            \n",
        "            encoder_input = signals[:, :input_sequence_length, :]\n",
        "            decoder_output = signals[:, input_sequence_length:, :]\n",
        "            \n",
        "            # The output of the generator must be ([encoder_input, decoder_input], [decoder_output])\n",
        "            decoder_input = np.zeros((decoder_output.shape[0], decoder_output.shape[1], 1))\n",
        "            yield ([encoder_input, decoder_input], decoder_output)"
      ],
      "execution_count": 0,
      "outputs": []
    },
    {
      "cell_type": "code",
      "metadata": {
        "id": "uyMWCcxsUZnT",
        "colab_type": "code",
        "colab": {}
      },
      "source": [
        "def data_gen(data, batch_size, steps_per_epoch,\n",
        "                input_sequence_length, target_sequence_length):\n",
        "    \"\"\"Produce a batch of signals.\n",
        "\n",
        "    The signals are the sum of randomly generated sine waves.\n",
        "\n",
        "    Arguments\n",
        "    ---------\n",
        "    batch_size: Number of signals to produce.\n",
        "    steps_per_epoch: Number of batches of size batch_size produced by the\n",
        "        generator.\n",
        "    input_sequence_length: Length of the input signals to produce.\n",
        "    target_sequence_length: Length of the target signals to produce.\n",
        "    \n",
        "    Returns\n",
        "    -------\n",
        "    signals: 2D array of shape (batch_size, sequence_length)\n",
        "    \"\"\"\n",
        "    d = data[:,0]   # Remove a \"1\" from the data shape\n",
        "    num_points = input_sequence_length + target_sequence_length\n",
        "    x = np.arange(num_points) * 2*np.pi/30\n",
        "\n",
        "    while True:\n",
        "       for j in range(0,steps_per_epoch+0):  # Each step per epoch\n",
        "\n",
        "        batch_data = np.zeros((batch_size, num_points))\n",
        "        for i in range(1,(batch_size+1)):\n",
        "          window = d[(-(num_points)-i-(steps_per_epoch*j)):-(i+steps_per_epoch*j)]\n",
        "\n",
        "          print(window)\n",
        "          batch_data[i-1,:] = window\n",
        "\n",
        "\n",
        "        batch_data = np.expand_dims(batch_data, axis=2)\n",
        "        # print(batch_data)\n",
        "\n",
        "        encoder_input = batch_data[:, :input_sequence_length, :]\n",
        "        decoder_output = batch_data[:, input_sequence_length:, :]\n",
        "        decoder_input = np.zeros((decoder_output.shape[0], decoder_output.shape[1], 1))\n",
        "        yield ([encoder_input, decoder_input], decoder_output)"
      ],
      "execution_count": 0,
      "outputs": []
    },
    {
      "cell_type": "code",
      "metadata": {
        "id": "CCp7ar4EMQHN",
        "colab_type": "code",
        "colab": {}
      },
      "source": [
        ""
      ],
      "execution_count": 0,
      "outputs": []
    },
    {
      "cell_type": "code",
      "metadata": {
        "id": "7bjbLoPMZ4D1",
        "colab_type": "code",
        "outputId": "bbcfd3f1-b7cd-4748-ab66-65451ce08c81",
        "colab": {
          "base_uri": "https://localhost:8080/",
          "height": 1000
        }
      },
      "source": [
        "batch_size = 2    # 512\n",
        "steps_per_epoch = 2 # 200 # batch_size * steps_per_epoch = total number of training examples\n",
        "epochs = 15\n",
        "\n",
        "input_sequence_length = 15 # Length of the sequence used by the encoder\n",
        "target_sequence_length = 15 # Length of the sequence predicted by the decoder\n",
        "num_steps_to_predict = 20 # Length to use when testing the model\n",
        "\n",
        "d = data[:,0]   # Remove a \"1\" from the data shape\n",
        "num_points = input_sequence_length + target_sequence_length\n",
        "\n",
        "for j in range(0,steps_per_epoch+0):  # Each step per epoch\n",
        "\n",
        "  batch_data = np.zeros((batch_size, num_points))\n",
        "  for i in range(1,(batch_size+1)):\n",
        "    window = d[(-(num_points)-i-(steps_per_epoch*j)):-(i+steps_per_epoch*j)]\n",
        "\n",
        "    print(window)\n",
        "    batch_data[i-1,:] = window\n",
        "\n",
        "\n",
        "  batch_data = np.expand_dims(batch_data, axis=2)\n",
        "  # print(batch_data)\n",
        "\n",
        "  encoder_input = batch_data[:, :input_sequence_length, :]\n",
        "  decoder_output = batch_data[:, input_sequence_length:, :]\n",
        "  decoder_input = np.zeros((decoder_output.shape[0], decoder_output.shape[1], 1))\n",
        "  # print(encoder_input)\n",
        "  # print(decoder_output)\n",
        "  # print(decoder_input.shape)"
      ],
      "execution_count": 0,
      "outputs": [
        {
          "output_type": "stream",
          "text": [
            "[-4.2958499e-04 -3.6406500e-04 -3.0634500e-04 -2.7222000e-04\n",
            " -2.3399999e-04 -1.5912000e-04 -1.1524500e-04 -1.0257000e-04\n",
            " -7.5270000e-05 -1.2304500e-04 -1.4859000e-04 -1.1524500e-04\n",
            " -8.5214997e-05 -6.8250001e-06  5.3820000e-05  9.1454996e-05\n",
            "  1.3825500e-04  2.2717500e-04  3.0965998e-04  3.5490000e-04\n",
            "  3.9175499e-04  3.2682001e-04  2.4121499e-04  1.7510999e-04\n",
            "  1.0413000e-04  1.1836500e-04  1.1056500e-04  5.6745001e-05\n",
            "  4.7385001e-05  6.3569998e-05]\n",
            "[-4.7638500e-04 -4.2958499e-04 -3.6406500e-04 -3.0634500e-04\n",
            " -2.7222000e-04 -2.3399999e-04 -1.5912000e-04 -1.1524500e-04\n",
            " -1.0257000e-04 -7.5270000e-05 -1.2304500e-04 -1.4859000e-04\n",
            " -1.1524500e-04 -8.5214997e-05 -6.8250001e-06  5.3820000e-05\n",
            "  9.1454996e-05  1.3825500e-04  2.2717500e-04  3.0965998e-04\n",
            "  3.5490000e-04  3.9175499e-04  3.2682001e-04  2.4121499e-04\n",
            "  1.7510999e-04  1.0413000e-04  1.1836500e-04  1.1056500e-04\n",
            "  5.6745001e-05  4.7385001e-05]\n",
            "[[[-4.29584994e-04]\n",
            "  [-3.64064996e-04]\n",
            "  [-3.06344999e-04]\n",
            "  [-2.72220001e-04]\n",
            "  [-2.33999992e-04]\n",
            "  [-1.59119998e-04]\n",
            "  [-1.15244999e-04]\n",
            "  [-1.02569997e-04]\n",
            "  [-7.52699998e-05]\n",
            "  [-1.23045000e-04]\n",
            "  [-1.48589999e-04]\n",
            "  [-1.15244999e-04]\n",
            "  [-8.52149969e-05]\n",
            "  [-6.82500013e-06]\n",
            "  [ 5.38200002e-05]]\n",
            "\n",
            " [[-4.76385001e-04]\n",
            "  [-4.29584994e-04]\n",
            "  [-3.64064996e-04]\n",
            "  [-3.06344999e-04]\n",
            "  [-2.72220001e-04]\n",
            "  [-2.33999992e-04]\n",
            "  [-1.59119998e-04]\n",
            "  [-1.15244999e-04]\n",
            "  [-1.02569997e-04]\n",
            "  [-7.52699998e-05]\n",
            "  [-1.23045000e-04]\n",
            "  [-1.48589999e-04]\n",
            "  [-1.15244999e-04]\n",
            "  [-8.52149969e-05]\n",
            "  [-6.82500013e-06]]]\n",
            "[[[9.14549964e-05]\n",
            "  [1.38254996e-04]\n",
            "  [2.27174998e-04]\n",
            "  [3.09659983e-04]\n",
            "  [3.54899996e-04]\n",
            "  [3.91754991e-04]\n",
            "  [3.26820009e-04]\n",
            "  [2.41214992e-04]\n",
            "  [1.75109992e-04]\n",
            "  [1.04129998e-04]\n",
            "  [1.18365002e-04]\n",
            "  [1.10565001e-04]\n",
            "  [5.67450006e-05]\n",
            "  [4.73850014e-05]\n",
            "  [6.35699980e-05]]\n",
            "\n",
            " [[5.38200002e-05]\n",
            "  [9.14549964e-05]\n",
            "  [1.38254996e-04]\n",
            "  [2.27174998e-04]\n",
            "  [3.09659983e-04]\n",
            "  [3.54899996e-04]\n",
            "  [3.91754991e-04]\n",
            "  [3.26820009e-04]\n",
            "  [2.41214992e-04]\n",
            "  [1.75109992e-04]\n",
            "  [1.04129998e-04]\n",
            "  [1.18365002e-04]\n",
            "  [1.10565001e-04]\n",
            "  [5.67450006e-05]\n",
            "  [4.73850014e-05]]]\n",
            "(2, 15, 1)\n",
            "[-5.5886997e-04 -4.7638500e-04 -4.2958499e-04 -3.6406500e-04\n",
            " -3.0634500e-04 -2.7222000e-04 -2.3399999e-04 -1.5912000e-04\n",
            " -1.1524500e-04 -1.0257000e-04 -7.5270000e-05 -1.2304500e-04\n",
            " -1.4859000e-04 -1.1524500e-04 -8.5214997e-05 -6.8250001e-06\n",
            "  5.3820000e-05  9.1454996e-05  1.3825500e-04  2.2717500e-04\n",
            "  3.0965998e-04  3.5490000e-04  3.9175499e-04  3.2682001e-04\n",
            "  2.4121499e-04  1.7510999e-04  1.0413000e-04  1.1836500e-04\n",
            "  1.1056500e-04  5.6745001e-05]\n",
            "[-6.4700999e-04 -5.5886997e-04 -4.7638500e-04 -4.2958499e-04\n",
            " -3.6406500e-04 -3.0634500e-04 -2.7222000e-04 -2.3399999e-04\n",
            " -1.5912000e-04 -1.1524500e-04 -1.0257000e-04 -7.5270000e-05\n",
            " -1.2304500e-04 -1.4859000e-04 -1.1524500e-04 -8.5214997e-05\n",
            " -6.8250001e-06  5.3820000e-05  9.1454996e-05  1.3825500e-04\n",
            "  2.2717500e-04  3.0965998e-04  3.5490000e-04  3.9175499e-04\n",
            "  3.2682001e-04  2.4121499e-04  1.7510999e-04  1.0413000e-04\n",
            "  1.1836500e-04  1.1056500e-04]\n",
            "[[[-5.58869971e-04]\n",
            "  [-4.76385001e-04]\n",
            "  [-4.29584994e-04]\n",
            "  [-3.64064996e-04]\n",
            "  [-3.06344999e-04]\n",
            "  [-2.72220001e-04]\n",
            "  [-2.33999992e-04]\n",
            "  [-1.59119998e-04]\n",
            "  [-1.15244999e-04]\n",
            "  [-1.02569997e-04]\n",
            "  [-7.52699998e-05]\n",
            "  [-1.23045000e-04]\n",
            "  [-1.48589999e-04]\n",
            "  [-1.15244999e-04]\n",
            "  [-8.52149969e-05]]\n",
            "\n",
            " [[-6.47009991e-04]\n",
            "  [-5.58869971e-04]\n",
            "  [-4.76385001e-04]\n",
            "  [-4.29584994e-04]\n",
            "  [-3.64064996e-04]\n",
            "  [-3.06344999e-04]\n",
            "  [-2.72220001e-04]\n",
            "  [-2.33999992e-04]\n",
            "  [-1.59119998e-04]\n",
            "  [-1.15244999e-04]\n",
            "  [-1.02569997e-04]\n",
            "  [-7.52699998e-05]\n",
            "  [-1.23045000e-04]\n",
            "  [-1.48589999e-04]\n",
            "  [-1.15244999e-04]]]\n",
            "[[[-6.82500013e-06]\n",
            "  [ 5.38200002e-05]\n",
            "  [ 9.14549964e-05]\n",
            "  [ 1.38254996e-04]\n",
            "  [ 2.27174998e-04]\n",
            "  [ 3.09659983e-04]\n",
            "  [ 3.54899996e-04]\n",
            "  [ 3.91754991e-04]\n",
            "  [ 3.26820009e-04]\n",
            "  [ 2.41214992e-04]\n",
            "  [ 1.75109992e-04]\n",
            "  [ 1.04129998e-04]\n",
            "  [ 1.18365002e-04]\n",
            "  [ 1.10565001e-04]\n",
            "  [ 5.67450006e-05]]\n",
            "\n",
            " [[-8.52149969e-05]\n",
            "  [-6.82500013e-06]\n",
            "  [ 5.38200002e-05]\n",
            "  [ 9.14549964e-05]\n",
            "  [ 1.38254996e-04]\n",
            "  [ 2.27174998e-04]\n",
            "  [ 3.09659983e-04]\n",
            "  [ 3.54899996e-04]\n",
            "  [ 3.91754991e-04]\n",
            "  [ 3.26820009e-04]\n",
            "  [ 2.41214992e-04]\n",
            "  [ 1.75109992e-04]\n",
            "  [ 1.04129998e-04]\n",
            "  [ 1.18365002e-04]\n",
            "  [ 1.10565001e-04]]]\n",
            "(2, 15, 1)\n"
          ],
          "name": "stdout"
        }
      ]
    },
    {
      "cell_type": "code",
      "metadata": {
        "id": "L0noHfR2RXu6",
        "colab_type": "code",
        "outputId": "78f7ec2d-f59b-48b1-e678-5a4a8179b97b",
        "colab": {
          "base_uri": "https://localhost:8080/",
          "height": 51
        }
      },
      "source": [
        "for i in range(1,(batch_size+1)):\n",
        "  x = i\n",
        "batch_data = np.zeros((batch_size, num_points))\n",
        "batch_data[0,:]"
      ],
      "execution_count": 0,
      "outputs": [
        {
          "output_type": "execute_result",
          "data": {
            "text/plain": [
              "array([0., 0., 0., 0., 0., 0., 0., 0., 0., 0., 0., 0., 0., 0., 0., 0., 0.,\n",
              "       0., 0., 0., 0., 0., 0., 0., 0., 0., 0., 0., 0., 0.])"
            ]
          },
          "metadata": {
            "tags": []
          },
          "execution_count": 33
        }
      ]
    },
    {
      "cell_type": "code",
      "metadata": {
        "id": "2FL0PibeUZtH",
        "colab_type": "code",
        "colab": {}
      },
      "source": [
        ""
      ],
      "execution_count": 0,
      "outputs": []
    },
    {
      "cell_type": "code",
      "metadata": {
        "id": "DiURDz4IUZw0",
        "colab_type": "code",
        "colab": {}
      },
      "source": [
        "def multivariate_data(dataset, target, start_index, end_index, history_size,\n",
        "                      target_size, step, single_step=False):\n",
        "  data = []\n",
        "  labels = []\n",
        "\n",
        "  start_index = start_index + history_size\n",
        "  if end_index is None:\n",
        "    end_index = len(dataset) - target_size\n",
        "\n",
        "  for i in range(start_index, end_index):\n",
        "    indices = range(i-history_size, i, step)\n",
        "    data.append(dataset[indices])\n",
        "\n",
        "    if single_step:\n",
        "      labels.append(target[i+target_size])\n",
        "    else:\n",
        "      labels.append(target[i:i+target_size])\n",
        "\n",
        "  return np.array(data), np.array(labels)"
      ],
      "execution_count": 0,
      "outputs": []
    },
    {
      "cell_type": "code",
      "metadata": {
        "id": "gUOsjrTIUZqy",
        "colab_type": "code",
        "colab": {}
      },
      "source": [
        ""
      ],
      "execution_count": 0,
      "outputs": []
    },
    {
      "cell_type": "code",
      "metadata": {
        "id": "HBnG8vHqUZkz",
        "colab_type": "code",
        "colab": {}
      },
      "source": [
        ""
      ],
      "execution_count": 0,
      "outputs": []
    },
    {
      "cell_type": "code",
      "metadata": {
        "id": "u5yHIU0bUZjH",
        "colab_type": "code",
        "colab": {}
      },
      "source": [
        ""
      ],
      "execution_count": 0,
      "outputs": []
    },
    {
      "cell_type": "code",
      "metadata": {
        "id": "0BmqXQrjUZdy",
        "colab_type": "code",
        "colab": {}
      },
      "source": [
        ""
      ],
      "execution_count": 0,
      "outputs": []
    },
    {
      "cell_type": "markdown",
      "metadata": {
        "id": "Ntwd97cMxIgV",
        "colab_type": "text"
      },
      "source": [
        "# SAVE BEFORE EXITING"
      ]
    },
    {
      "cell_type": "markdown",
      "metadata": {
        "id": "rzjufXDRykCm",
        "colab_type": "text"
      },
      "source": [
        "### Save Model"
      ]
    },
    {
      "cell_type": "code",
      "metadata": {
        "id": "55OwzQVByoVV",
        "colab_type": "code",
        "outputId": "af39438d-fdfb-49b5-f9ab-ddfe122af987",
        "colab": {
          "base_uri": "https://localhost:8080/",
          "height": 198
        }
      },
      "source": [
        "# Save the weights, model\n",
        "# model.save_weights('./checkpoints/lstm_32x32_fc_len_1_epochs_10') # Save weights\n",
        "model.save('./drive/My Drive/Colab Notebooks/saved_models/drift_grat') # Save model"
      ],
      "execution_count": 0,
      "outputs": [
        {
          "output_type": "error",
          "ename": "NameError",
          "evalue": "ignored",
          "traceback": [
            "\u001b[0;31m---------------------------------------------------------------------------\u001b[0m",
            "\u001b[0;31mNameError\u001b[0m                                 Traceback (most recent call last)",
            "\u001b[0;32m<ipython-input-68-7a9388b98884>\u001b[0m in \u001b[0;36m<module>\u001b[0;34m()\u001b[0m\n\u001b[1;32m      1\u001b[0m \u001b[0;31m# Save the weights, model\u001b[0m\u001b[0;34m\u001b[0m\u001b[0;34m\u001b[0m\u001b[0;34m\u001b[0m\u001b[0m\n\u001b[1;32m      2\u001b[0m \u001b[0;31m# model.save_weights('./checkpoints/lstm_32x32_fc_len_1_epochs_10') # Save weights\u001b[0m\u001b[0;34m\u001b[0m\u001b[0;34m\u001b[0m\u001b[0;34m\u001b[0m\u001b[0m\n\u001b[0;32m----> 3\u001b[0;31m \u001b[0mmodel\u001b[0m\u001b[0;34m.\u001b[0m\u001b[0msave\u001b[0m\u001b[0;34m(\u001b[0m\u001b[0;34m'./drive/My Drive/Colab Notebooks/saved_models/drift_grat'\u001b[0m\u001b[0;34m)\u001b[0m \u001b[0;31m# Save model\u001b[0m\u001b[0;34m\u001b[0m\u001b[0;34m\u001b[0m\u001b[0m\n\u001b[0m",
            "\u001b[0;31mNameError\u001b[0m: name 'model' is not defined"
          ]
        }
      ]
    },
    {
      "cell_type": "markdown",
      "metadata": {
        "id": "If4JNGJexLf2",
        "colab_type": "text"
      },
      "source": [
        "### Save Best Results"
      ]
    },
    {
      "cell_type": "code",
      "metadata": {
        "id": "i1cwdPGy-gJ7",
        "colab_type": "code",
        "colab": {}
      },
      "source": [
        "output = open('./drive/My Drive/Colab Notebooks/best_results.pkl', 'wb')\n",
        "pickle.dump(best_results, output)\n",
        "output.close()\n"
      ],
      "execution_count": 0,
      "outputs": []
    },
    {
      "cell_type": "code",
      "metadata": {
        "id": "zWcd9P1q-gKC",
        "colab_type": "code",
        "colab": {}
      },
      "source": [
        ""
      ],
      "execution_count": 0,
      "outputs": []
    },
    {
      "cell_type": "markdown",
      "metadata": {
        "id": "TY4Fg8ukcuFR",
        "colab_type": "text"
      },
      "source": [
        "## Functions"
      ]
    },
    {
      "cell_type": "code",
      "metadata": {
        "id": "SS5ppU7FAzcw",
        "colab_type": "code",
        "colab": {}
      },
      "source": [
        "def random_sine(batch_size, steps_per_epoch,\n",
        "                input_sequence_length, target_sequence_length,\n",
        "                min_frequency=0.1, max_frequency=10,\n",
        "                min_amplitude=0.1, max_amplitude=1,\n",
        "                min_offset=-0.5, max_offset=0.5,\n",
        "                num_signals=3, seed=43):\n",
        "    \"\"\"Produce a batch of signals.\n",
        "\n",
        "    The signals are the sum of randomly generated sine waves.\n",
        "\n",
        "    Arguments\n",
        "    ---------\n",
        "    batch_size: Number of signals to produce.\n",
        "    steps_per_epoch: Number of batches of size batch_size produced by the\n",
        "        generator.\n",
        "    input_sequence_length: Length of the input signals to produce.\n",
        "    target_sequence_length: Length of the target signals to produce.\n",
        "    min_frequency: Minimum frequency of the base signals that are summed.\n",
        "    max_frequency: Maximum frequency of the base signals that are summed.\n",
        "    min_amplitude: Minimum amplitude of the base signals that are summed.\n",
        "    max_amplitude: Maximum amplitude of the base signals that are summed.\n",
        "    min_offset: Minimum offset of the base signals that are summed.\n",
        "    max_offset: Maximum offset of the base signals that are summed.\n",
        "    num_signals: Number of signals that are summed together.\n",
        "    seed: The seed used for generating random numbers\n",
        "    \n",
        "    Returns\n",
        "    -------\n",
        "    signals: 2D array of shape (batch_size, sequence_length)\n",
        "    \"\"\"\n",
        "    num_points = input_sequence_length + target_sequence_length\n",
        "    x = np.arange(num_points) * 2*np.pi/30\n",
        "\n",
        "    while True:\n",
        "        # Reset seed to obtain same sequences from epoch to epoch\n",
        "        np.random.seed(seed)\n",
        "\n",
        "        for _ in range(steps_per_epoch):\n",
        "            signals = np.zeros((batch_size, num_points))\n",
        "            for _ in range(num_signals):\n",
        "                # Generate random amplitude, frequence, offset, phase \n",
        "                amplitude = (np.random.rand(batch_size, 1) * \n",
        "                            (max_amplitude - min_amplitude) +\n",
        "                             min_amplitude)\n",
        "                frequency = (np.random.rand(batch_size, 1) * \n",
        "                            (max_frequency - min_frequency) + \n",
        "                             min_frequency)\n",
        "                offset = (np.random.rand(batch_size, 1) * \n",
        "                         (max_offset - min_offset) + \n",
        "                          min_offset)\n",
        "                phase = np.random.rand(batch_size, 1) * 2 * np.pi \n",
        "                         \n",
        "\n",
        "                signals += amplitude * np.sin(frequency * x + phase)\n",
        "            signals = np.expand_dims(signals, axis=2)\n",
        "            \n",
        "            encoder_input = signals[:, :input_sequence_length, :]\n",
        "            decoder_output = signals[:, input_sequence_length:, :]\n",
        "            \n",
        "            # The output of the generator must be ([encoder_input, decoder_input], [decoder_output])\n",
        "            decoder_input = np.zeros((decoder_output.shape[0], decoder_output.shape[1], 1))\n",
        "            yield ([encoder_input, decoder_input], decoder_output)\n",
        "\n",
        "def plot_prediction(x, y_true, y_pred):\n",
        "    \"\"\"Plots the predictions.\n",
        "    \n",
        "    Arguments\n",
        "    ---------\n",
        "    x: Input sequence of shape (input_sequence_length,\n",
        "        dimension_of_signal)\n",
        "    y_true: True output sequence of shape (input_sequence_length,\n",
        "        dimension_of_signal)\n",
        "    y_pred: Predicted output sequence (input_sequence_length,\n",
        "        dimension_of_signal)\n",
        "    \"\"\"\n",
        "\n",
        "    plt.figure(figsize=(12, 3))\n",
        "\n",
        "    output_dim = x.shape[-1]\n",
        "    for j in range(output_dim):\n",
        "        past = x[:, j] \n",
        "        true = y_true[:, j]\n",
        "        pred = y_pred[:, j]\n",
        "\n",
        "        label1 = \"Seen (past) values\" if j==0 else \"_nolegend_\"\n",
        "        label2 = \"True future values\" if j==0 else \"_nolegend_\"\n",
        "        label3 = \"Predictions\" if j==0 else \"_nolegend_\"\n",
        "\n",
        "        plt.plot(range(len(past)), past, \"o--b\",\n",
        "                 label=label1)\n",
        "        plt.plot(range(len(past),\n",
        "                 len(true)+len(past)), true, \"x--b\", label=label2)\n",
        "        plt.plot(range(len(past), len(pred)+len(past)), pred, \"o--y\",\n",
        "                 label=label3)\n",
        "    plt.legend(loc='best')\n",
        "    plt.title(\"Predictions v.s. true values\")\n",
        "    plt.show()\n",
        "\n",
        "# if __name__ == '__main__':\n",
        "\n",
        "#     # This is an example of the plot function and the signal generator\n",
        "#     from matplotlib import pyplot as plt\n",
        "#     gen = random_sine(3, 3, 15, 15)\n",
        "#     for i, data in enumerate(gen):\n",
        "#         input_seq, output_seq = data\n",
        "#         for j in range(input_seq.shape[0]):\n",
        "#             plot_prediction(input_seq[j, :, :],\n",
        "#                             output_seq[j, :, :],\n",
        "#                             output_seq[j, :, :])\n",
        "#         if i > 2:\n",
        "#             break"
      ],
      "execution_count": 0,
      "outputs": []
    },
    {
      "cell_type": "code",
      "metadata": {
        "id": "JHiFBlpkn9Hk",
        "colab_type": "code",
        "colab": {}
      },
      "source": [
        "def data_gen(data, batch_size, steps_per_epoch,\n",
        "                input_sequence_length, target_sequence_length):\n",
        "    \"\"\"Produce a batch of signals.\n",
        "\n",
        "    The signals are the sum of randomly generated sine waves.\n",
        "\n",
        "    Arguments\n",
        "    ---------\n",
        "    batch_size: Number of signals to produce.\n",
        "    steps_per_epoch: Number of batches of size batch_size produced by the\n",
        "        generator.\n",
        "    input_sequence_length: Length of the input signals to produce.\n",
        "    target_sequence_length: Length of the target signals to produce.\n",
        "    \n",
        "    Returns\n",
        "    -------\n",
        "    signals: 2D array of shape (batch_size, sequence_length)\n",
        "    \"\"\"\n",
        "    d = data[:,0]   # Remove a \"1\" from the data shape\n",
        "    num_points = input_sequence_length + target_sequence_length\n",
        "    x = np.arange(num_points) * 2*np.pi/30\n",
        "\n",
        "    # while True:\n",
        "    for j in range(0,steps_per_epoch+0):  # Each step per epoch\n",
        "\n",
        "      batch_data = np.zeros((batch_size, num_points))\n",
        "      for i in range(1,(batch_size+1)):\n",
        "        window = d[(-(num_points)-i-(steps_per_epoch*j)):-(i+steps_per_epoch*j)]\n",
        "\n",
        "        print(window)\n",
        "        batch_data[i-1,:] = window\n",
        "\n",
        "\n",
        "      batch_data = np.expand_dims(batch_data, axis=2)\n",
        "      # print(batch_data)\n",
        "\n",
        "      encoder_input = batch_data[:, :input_sequence_length, :]\n",
        "      decoder_output = batch_data[:, input_sequence_length:, :]\n",
        "      decoder_input = np.zeros((decoder_output.shape[0], decoder_output.shape[1], 1))\n",
        "      yield ([encoder_input, decoder_input], decoder_output)"
      ],
      "execution_count": 0,
      "outputs": []
    },
    {
      "cell_type": "code",
      "metadata": {
        "id": "R0SCh0W9n9k1",
        "colab_type": "code",
        "colab": {}
      },
      "source": [
        ""
      ],
      "execution_count": 0,
      "outputs": []
    }
  ]
}